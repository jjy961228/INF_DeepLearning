{
 "cells": [
  {
   "cell_type": "code",
   "execution_count": 9,
   "id": "5adb2a10",
   "metadata": {},
   "outputs": [
    {
     "name": "stdout",
     "output_type": "stream",
     "text": [
      "[50, 40, 30, 20, 10]\n"
     ]
    }
   ],
   "source": [
    "#%% 1-76) Sorting\n",
    "scores = [40,20,30,10,50]\n",
    "\n",
    "#정렬된 데이터를 담을 공간 -> 큰수~작은수로 내림차순 정렬될공간 선언\n",
    "sorted_scores = list() \n",
    "\n",
    "for _ in range(len(scores)) :\n",
    "    #max_val -> sorted_scores 에 들어간다\n",
    "    max_value , max_idx = scores[0], 0 \n",
    "    for score_idx in range(len(scores)):\n",
    "         if scores[score_idx] > max_value :\n",
    "                max_value =  scores[score_idx]\n",
    "                max_idx = score_idx\n",
    "    \n",
    "    #임시 score 저장공간\n",
    "    temp_score = list()\n",
    "    for score_idx in range(len(scores)):\n",
    "        if max_idx == score_idx:\n",
    "            #앞전에서 score[score_idx] = max_idx\n",
    "            sorted_scores.append(scores[score_idx])\n",
    "        else: \n",
    "            temp_score.append(scores[score_idx])\n",
    "    scores = temp_score\n",
    "\n",
    "print(sorted_scores)\n",
    "\n",
    "    \n",
    "    "
   ]
  }
 ],
 "metadata": {
  "kernelspec": {
   "display_name": "Python 3 (ipykernel)",
   "language": "python",
   "name": "python3"
  },
  "language_info": {
   "codemirror_mode": {
    "name": "ipython",
    "version": 3
   },
   "file_extension": ".py",
   "mimetype": "text/x-python",
   "name": "python",
   "nbconvert_exporter": "python",
   "pygments_lexer": "ipython3",
   "version": "3.9.7"
  }
 },
 "nbformat": 4,
 "nbformat_minor": 5
}
