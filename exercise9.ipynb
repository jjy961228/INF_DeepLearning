{
 "cells": [
  {
   "cell_type": "code",
   "execution_count": null,
   "id": "ec2c2bf5",
   "metadata": {},
   "outputs": [],
   "source": [
    "#%% 1-71) 1~100까지 n배수들의 합 구하기\n",
    "multiple_of = 3 #3의 배수\n",
    "\n",
    "numbers = list()\n",
    "for num in range(100):\n",
    "    numbers.append(num+1)\n",
    "print(numbers)\n",
    "\n",
    "sum_multiple_of_n = 0\n",
    "for num2 in numbers:\n",
    "    if num2 % multiple_of == 0 :\n",
    "        numbers.append(num2)\n",
    "        sum_multiple_of_n += num2\n",
    "print(sum_multiple_of_n)"
   ]
  },
  {
   "cell_type": "code",
   "execution_count": null,
   "id": "6383a4b9",
   "metadata": {},
   "outputs": [],
   "source": [
    "#%% 1-74) Nomalization(정규화) \n",
    "# 정규화를 하게되면 데이터들이 [0~1] 사이의 분포를 갖게된다\n",
    "# [100~200] -> x:= (x - xMin) / (xMax-xMin) -> [0,1]\n"
   ]
  }
 ],
 "metadata": {
  "kernelspec": {
   "display_name": "Python 3 (ipykernel)",
   "language": "python",
   "name": "python3"
  },
  "language_info": {
   "codemirror_mode": {
    "name": "ipython",
    "version": 3
   },
   "file_extension": ".py",
   "mimetype": "text/x-python",
   "name": "python",
   "nbconvert_exporter": "python",
   "pygments_lexer": "ipython3",
   "version": "3.9.7"
  }
 },
 "nbformat": 4,
 "nbformat_minor": 5
}
