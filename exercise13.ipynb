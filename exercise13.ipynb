{
 "cells": [
  {
   "cell_type": "code",
   "execution_count": 5,
   "id": "d7b5dc91",
   "metadata": {},
   "outputs": [
    {
     "name": "stdout",
     "output_type": "stream",
     "text": [
      "[1, 2]\n",
      "2\n",
      "전장영\n"
     ]
    }
   ],
   "source": [
    "scores = [[1,2], 20, \"전장영\"]\n",
    "print(scores[0])\n",
    "print(scores[0][1])\n",
    "print(scores[2])"
   ]
  },
  {
   "cell_type": "code",
   "execution_count": 8,
   "id": "66903c09",
   "metadata": {},
   "outputs": [
    {
     "name": "stdout",
     "output_type": "stream",
     "text": [
      "[10, 20, 30]\n",
      "10\n",
      "20\n",
      "30\n",
      "[50, 60, 70]\n",
      "50\n",
      "60\n",
      "70\n"
     ]
    }
   ],
   "source": [
    "#%% Nested List 원소 접근하기(2) \n",
    "# Nested List : 2차원 이상의 데이터\n",
    "scores =[[10,20,30],            [50,60,70]]\n",
    "#         1번째학생의 국,영,수   2번째학생의 국,영,수\n",
    "for student_scores in scores :\n",
    "    print(student_scores)\n",
    "    for score in student_scores:\n",
    "        print(score)"
   ]
  },
  {
   "cell_type": "code",
   "execution_count": 20,
   "id": "01da22de",
   "metadata": {},
   "outputs": [
    {
     "name": "stdout",
     "output_type": "stream",
     "text": [
      "n_student(score의 길이): 4   /   n_class(각 class의원소갯수): 3\n",
      "[15.0, 25.0, 38.333333333333336, 45.0]\n"
     ]
    }
   ],
   "source": [
    "#%% 학생별 평균점수 구하기\n",
    "scores = [[10,15,20],[20,25,30],[30,45,40],[40,45,50]]\n",
    "#         1번째 국,영,수         3번째 국,영,수\n",
    "n_student = len(scores) #outer list\n",
    "n_class = len(scores[0])#inner list : 즉, 클래스 안에있는것들의 갯수\n",
    "print(\"n_student(score의 길이): {}   /   n_class(각 class의원소갯수): {}\".format(n_student, n_class))\n",
    "\n",
    "students_score_mean = list()\n",
    "#student_score_sum = 0 여기서 sum을 초기화하면 모든 학생의 합이된다\n",
    "for student_scores in scores :\n",
    "    student_score_sum = 0 #여기서 해줘야 각각학생들의 평균이 된다\n",
    "    for score in student_scores :\n",
    "        student_score_sum += score\n",
    "    mean = student_score_sum / n_class\n",
    "    students_score_mean.append(mean)\n",
    "print(students_score_mean)    \n",
    "    "
   ]
  },
  {
   "cell_type": "code",
   "execution_count": 1,
   "id": "c40c1530",
   "metadata": {},
   "outputs": [
    {
     "name": "stdout",
     "output_type": "stream",
     "text": [
      "[0, 0, 0]\n",
      "[10, 0, 0]\n",
      "[10, 15, 0]\n",
      "[10, 15, 20]\n",
      "class의 합계(국,영,수):  [10, 15, 20]\n",
      "[30, 15, 20]\n",
      "[30, 40, 20]\n",
      "[30, 40, 50]\n",
      "class의 합계(국,영,수):  [30, 40, 50]\n",
      "[60, 40, 50]\n",
      "[60, 85, 50]\n",
      "[60, 85, 90]\n",
      "class의 합계(국,영,수):  [60, 85, 90]\n",
      "[100, 85, 90]\n",
      "[100, 130, 90]\n",
      "[100, 130, 140]\n",
      "class의 합계(국,영,수):  [100, 130, 140]\n",
      "mean of clases scores:  [25.0]\n",
      "mean of clases scores:  [25.0, 32.5]\n",
      "mean of clases scores:  [25.0, 32.5, 35.0]\n"
     ]
    }
   ],
   "source": [
    "#%% 괴목별 평균점수 구하기\n",
    "scores = [[10,      15,20],[20,      25,30],[30,45,40],[40,45,50]]\n",
    "n_student = len(scores) \n",
    "n_class = len(scores[0])\n",
    "\n",
    "#idea ) [10,15,20]  \n",
    "#   -> [10+20 , 15+25 , 20 + 30]\n",
    "#   -> [10+20+30, 15+25+45 , 20+30+40]  이렇게 연산하는걸 생각해야한다\n",
    "class_score_sums = list()\n",
    "class_score_means = list()\n",
    "\n",
    "#1\n",
    "for _ in range (n_class):\n",
    "    class_score_sums.append(0)\n",
    "print(class_score_sums) # [0 ,                  0, 0]\n",
    "                        # 국어합,영어합,수학합 이렇게 들어기위한 공간할당\n",
    "    \n",
    "#2\n",
    "for student_scores in scores:\n",
    "    for class_idx in range(n_class):\n",
    "        class_score_sums[class_idx] += student_scores[class_idx]\n",
    "        print(class_score_sums)\n",
    "    print(\"class의 합계(국,영,수): \" , class_score_sums)\n",
    "\n",
    "#3\n",
    "for class_sums in class_score_sums :\n",
    "    mean = (class_sums / n_student)\n",
    "    class_score_means.append(mean)\n",
    "    print(\"mean of clases scores: \", class_score_means)"
   ]
  }
 ],
 "metadata": {
  "kernelspec": {
   "display_name": "Python 3 (ipykernel)",
   "language": "python",
   "name": "python3"
  },
  "language_info": {
   "codemirror_mode": {
    "name": "ipython",
    "version": 3
   },
   "file_extension": ".py",
   "mimetype": "text/x-python",
   "name": "python",
   "nbconvert_exporter": "python",
   "pygments_lexer": "ipython3",
   "version": "3.9.7"
  }
 },
 "nbformat": 4,
 "nbformat_minor": 5
}
