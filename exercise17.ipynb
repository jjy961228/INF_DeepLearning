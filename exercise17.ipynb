{
 "cells": [
  {
   "cell_type": "code",
   "execution_count": 5,
   "id": "be72a4a5",
   "metadata": {},
   "outputs": [
    {
     "name": "stdout",
     "output_type": "stream",
     "text": [
      "[12, 14, 16]\n",
      "[18, 20, 22]\n",
      "[24, 26, 28]\n",
      "[[12, 14, 16], [18, 20, 22], [24, 26, 28]]\n"
     ]
    }
   ],
   "source": [
    "#%% 1-97) Matrix Addition : 행렬의 합\n",
    "mat1 = [[1,2,3],\n",
    "       [4,5,6],\n",
    "       [7,8,9]]\n",
    "mat2 = [[11,12,13],\n",
    "       [14,15,16],\n",
    "       [17,18,19]]\n",
    "m_row = len(mat1)\n",
    "m_col = len(mat1[0])\n",
    "\n",
    "mat_add = list()\n",
    "for row_idx in range(m_row):\n",
    "    row_add = list()\n",
    "    for col_idx in range(m_col):\n",
    "        element1 = mat1[row_idx][col_idx]\n",
    "        element2 = mat2[row_idx][col_idx]\n",
    "        row_add.append(element1 + element2)\n",
    "    print(row_add)\n",
    "    mat_add.append(row_add)\n",
    "print(mat_add)"
   ]
  },
  {
   "cell_type": "code",
   "execution_count": 14,
   "id": "08af9ab9",
   "metadata": {},
   "outputs": [
    {
     "name": "stdout",
     "output_type": "stream",
     "text": [
      "각각의 dot_product값:  140\n",
      "각각의 dot_product값:  320\n",
      "각각의 dot_product값:  500\n",
      "[140, 320, 500]\n"
     ]
    }
   ],
   "source": [
    "#%% 1-98) Matrix-Vector Multiplication : \n",
    "mat = [[1,2,3],\n",
    "      [4,5,6],\n",
    "      [7,8,9]]\n",
    "vec = [10,20,30]\n",
    "\n",
    "n_row = len(mat)\n",
    "n_col = len(mat[0])\n",
    "\n",
    "mat_vec_mul = list()\n",
    "for row_idx in range(n_row):\n",
    "    \n",
    "    dot_prod = 0\n",
    "    for col_idx in range(n_col):\n",
    "        mat_vec_mul_score = mat[row_idx][col_idx] * vec[col_idx]\n",
    "        dot_prod += mat_vec_mul_score\n",
    "    print(\"각각의 dot_product값: \", dot_prod)\n",
    "    mat_vec_mul.append(dot_prod)\n",
    "print(mat_vec_mul)\n",
    "    \n",
    "        "
   ]
  },
  {
   "cell_type": "code",
   "execution_count": 2,
   "id": "cf6b109b",
   "metadata": {},
   "outputs": [
    {
     "name": "stdout",
     "output_type": "stream",
     "text": [
      "mat1의 한 행에 진입: \n",
      " [1, 2, 3]\n",
      "vec2:  [11]\n",
      "vec2:  [11, 14]\n",
      "vec2:  [11, 14, 17]\n",
      "dot_prod:  11\n",
      "dot_prod:  39\n",
      "dot_prod:  90\n",
      "vec2:  [12]\n",
      "vec2:  [12, 15]\n",
      "vec2:  [12, 15, 18]\n",
      "dot_prod:  12\n",
      "dot_prod:  42\n",
      "dot_prod:  96\n",
      "vec2:  [13]\n",
      "vec2:  [13, 16]\n",
      "vec2:  [13, 16, 19]\n",
      "dot_prod:  13\n",
      "dot_prod:  45\n",
      "dot_prod:  102\n",
      "mat1의 한 행에 진입: \n",
      " [4, 5, 6]\n",
      "vec2:  [11]\n",
      "vec2:  [11, 14]\n",
      "vec2:  [11, 14, 17]\n",
      "dot_prod:  44\n",
      "dot_prod:  114\n",
      "dot_prod:  216\n",
      "vec2:  [12]\n",
      "vec2:  [12, 15]\n",
      "vec2:  [12, 15, 18]\n",
      "dot_prod:  48\n",
      "dot_prod:  123\n",
      "dot_prod:  231\n",
      "vec2:  [13]\n",
      "vec2:  [13, 16]\n",
      "vec2:  [13, 16, 19]\n",
      "dot_prod:  52\n",
      "dot_prod:  132\n",
      "dot_prod:  246\n",
      "mat1의 한 행에 진입: \n",
      " [7, 8, 9]\n",
      "vec2:  [11]\n",
      "vec2:  [11, 14]\n",
      "vec2:  [11, 14, 17]\n",
      "dot_prod:  77\n",
      "dot_prod:  189\n",
      "dot_prod:  342\n",
      "vec2:  [12]\n",
      "vec2:  [12, 15]\n",
      "vec2:  [12, 15, 18]\n",
      "dot_prod:  84\n",
      "dot_prod:  204\n",
      "dot_prod:  366\n",
      "vec2:  [13]\n",
      "vec2:  [13, 16]\n",
      "vec2:  [13, 16, 19]\n",
      "dot_prod:  91\n",
      "dot_prod:  219\n",
      "dot_prod:  390\n",
      "[[90, 96, 102], [216, 231, 246], [342, 366, 390]]\n"
     ]
    }
   ],
   "source": [
    "#%% Matirx-Matrix Multiplication\n",
    "mat1 = [[1,2,3],\n",
    "       [4,5,6],\n",
    "       [7,8,9]]\n",
    "mat2 = [[11,12,13],\n",
    "       [14,15,16],\n",
    "       [17,18,19]]\n",
    "\n",
    "n_row = len(mat1)\n",
    "n_col = len(mat1[0])\n",
    "\n",
    "mat_mat_mul = list()\n",
    "#mat1의 행이 한번돌때에는 , mat2의 열을 0으로 고정시키고, 행만 바꿔주면서 dot_prod해야한다\n",
    "for row_idx in range(n_row):\n",
    "    #mat1의 한 행에 진입\n",
    "    vec1 = mat1[row_idx]\n",
    "    print(\"mat1의 한 행에 진입: \\n\", vec1)\n",
    "    \n",
    "    dot_prods = list()\n",
    "  # mat2의 열을 0으로 고정시키고, 행만 바꿔주면서 dot_prod한다\n",
    "    for col_idx in range(n_col):\n",
    "        vec2 = list()\n",
    "        for inner_idx in range(n_col): \n",
    "            \n",
    "            vec2.append(mat2[inner_idx][col_idx]) #(1*11 + \n",
    "                                                  # 2*14 +\n",
    "                                                 # 3*17)                  = 90  즉, 한번의 dot_prod\n",
    "            print(\"vec2: \", vec2)\n",
    "        dot_prod = 0\n",
    "        for inner_idx in range(n_col):\n",
    "            dot_prod += vec1[inner_idx] * vec2[inner_idx]\n",
    "            print(\"dot_prod: \", dot_prod)\n",
    "        dot_prods.append(dot_prod)\n",
    "    mat_mat_mul.append(dot_prods)\n",
    "print(mat_mat_mul)"
   ]
  },
  {
   "cell_type": "code",
   "execution_count": 7,
   "id": "03374868",
   "metadata": {},
   "outputs": [
    {
     "name": "stdout",
     "output_type": "stream",
     "text": [
      "[1, 4, 7]\n",
      "[2, 5, 8]\n",
      "[3, 6, 9]\n",
      "[[1, 4, 7], [2, 5, 8], [3, 6, 9]]\n"
     ]
    }
   ],
   "source": [
    "#%% 1-100) Transposed Matrix\n",
    "mat = [[1,2,3],\n",
    "      [4,5,6],\n",
    "      [7,8,9]]\n",
    "n_row = len(mat)\n",
    "n_col = len(mat[0])\n",
    "\n",
    "#mat의 열의 0번째 인덱스에 먼저 접근해서 돌려야하니까, col에 먼저 접근해야한다\n",
    "mat_t = list()\n",
    "for col_idx in range(n_col):\n",
    "    column = list()\n",
    "    for row_idx in range(n_row):\n",
    "        column.append(mat[row_idx][col_idx])\n",
    "    print(column)\n",
    "    mat_t.append(column)\n",
    "    \n",
    "print(mat_t)\n",
    "    "
   ]
  }
 ],
 "metadata": {
  "kernelspec": {
   "display_name": "Python 3 (ipykernel)",
   "language": "python",
   "name": "python3"
  },
  "language_info": {
   "codemirror_mode": {
    "name": "ipython",
    "version": 3
   },
   "file_extension": ".py",
   "mimetype": "text/x-python",
   "name": "python",
   "nbconvert_exporter": "python",
   "pygments_lexer": "ipython3",
   "version": "3.9.7"
  }
 },
 "nbformat": 4,
 "nbformat_minor": 5
}
