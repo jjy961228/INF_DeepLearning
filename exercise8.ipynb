{
 "cells": [
  {
   "cell_type": "code",
   "execution_count": 7,
   "id": "6e4eca32",
   "metadata": {},
   "outputs": [
    {
     "name": "stdout",
     "output_type": "stream",
     "text": [
      "method1:  [10, 40, 90, 160, 250]\n",
      "=====method2====\n",
      "[0, 0, 0, 0, 0]\n",
      "method2:  [10, 40, 90, 160, 250]\n"
     ]
    }
   ],
   "source": [
    "#%% 1-53) Hadamard Product(4)\n",
    "v1 = [1,2,3,4,5]\n",
    "v2 = [10,20,30,40,50]\n",
    "\n",
    "#method1 : append이용\n",
    "v3 = list()\n",
    "for dim_idx in range(len(v1)) : #demantion : 좌표의 수  즉,벡터안의 elements들\n",
    "    element_product =  v1[dim_idx] * v2[dim_idx]\n",
    "    v3.append(element_product)\n",
    "print(\"method1: \", v3)\n",
    "\n",
    "#method2 : 초기화 후, idx로만 값넣기\n",
    "#   장점) vector안에 몇차원이 들어가도 상관없다\n",
    "print(\"=====method2====\")\n",
    "v3 = list()\n",
    "for _ in range(len(v1)):\n",
    "    v3.append(0)\n",
    "print(v3)\n",
    "\n",
    "for dim_idx in range(len(v1)):\n",
    "    element_product = v1[dim_idx] * v2[dim_idx]\n",
    "    v3[dim_idx] = element_product\n",
    "print(\"method2: \", v3)"
   ]
  },
  {
   "cell_type": "code",
   "execution_count": 10,
   "id": "4ee33332",
   "metadata": {},
   "outputs": [
    {
     "name": "stdout",
     "output_type": "stream",
     "text": [
      "norm :  19.183326093250876\n"
     ]
    }
   ],
   "source": [
    "#%% 1-54) Vector Norm(3)\n",
    "#    장점) 벡터의 차원수가 많아져도 코드를 계속 사용할 수 있다\n",
    "v1 = [1,2,3,4,6,9,10,11]\n",
    "\n",
    "square_sum = 0\n",
    "for dim_val in v1: #dim_val : 벡터안의 element\n",
    "    square_sum += dim_val**2\n",
    "square_sum **= 0.5\n",
    "norm = square_sum\n",
    "print(\"norm : \", norm)\n"
   ]
  },
  {
   "cell_type": "code",
   "execution_count": 18,
   "id": "9436627e",
   "metadata": {},
   "outputs": [
    {
     "name": "stdout",
     "output_type": "stream",
     "text": [
      "norm of v1 before vector(v1을 유닛벡터로 만들기전의 norm값) :  19.183326093250876\n",
      "[0.05212860351426869, 0.10425720702853739, 0.1563858105428061, 0.20851441405707477, 0.3127716210856122, 0.4691574316284183, 0.5212860351426869, 0.5734146386569556]\n",
      "norm of v1 of after vector(v1을 유닛벡터로 만든 후의 norm값) :  1.0\n"
     ]
    }
   ],
   "source": [
    "#%% 1-55) unitVecotr로 만들기\n",
    "# 1) norm값을 구하고\n",
    "# 2)(x/norm,y/norm,z/norm) 대입하고\n",
    "# 3)(x/norm,y/norm,z/norm) 의 norm 값을 구하면 1이 나온다\n",
    "v1 = [1,2,3,4,6,9,10,11]\n",
    "\n",
    "#1)norm 값 구하기\n",
    "square_sum = 0\n",
    "for dim_val in v1: #dim_val : 벡터안의 element\n",
    "    square_sum += dim_val**2\n",
    "square_sum **= 0.5\n",
    "norm = square_sum\n",
    "print(\"norm of v1 before vector(v1을 유닛벡터로 만들기전의 norm값) : \", norm)\n",
    "\n",
    "#2) (x/norm,y/norm,z/norm) 대입\n",
    "for dim_idx in range(len(v1)):\n",
    "    v1[dim_idx] = v1[dim_idx] / norm \n",
    "print(v1)\n",
    "\n",
    "#3)(x/norm,y/norm,z/norm) 의 norm 값 구하기\n",
    "square_sum = 0\n",
    "for dim_val in v1:\n",
    "    square_sum += dim_val**2\n",
    "square_sum **= 0.5\n",
    "norm = square_sum\n",
    "print(\"norm of v1 of after vector(v1을 유닛벡터로 만든 후의 norm값) : \", norm)"
   ]
  },
  {
   "cell_type": "code",
   "execution_count": 22,
   "id": "b82cc28e",
   "metadata": {},
   "outputs": [
    {
     "name": "stdout",
     "output_type": "stream",
     "text": [
      "dot_product of v1,v2 26\n"
     ]
    }
   ],
   "source": [
    "#%% Dot Product\n",
    "v1, v2 = [1,2,3] , [3,4,5]\n",
    "dot_prod = 0\n",
    "for dim_idx in range(len(v1)):\n",
    "    dot_prod += v1[dim_idx] * v2[dim_idx]\n",
    "print(\"dot_product of v1,v2\", dot_prod)"
   ]
  },
  {
   "cell_type": "code",
   "execution_count": 25,
   "id": "e7f544e0",
   "metadata": {},
   "outputs": [
    {
     "name": "stdout",
     "output_type": "stream",
     "text": [
      "e_distance : 3.4641016151377544\n"
     ]
    }
   ],
   "source": [
    "#%% Euclidean Distance(3)  :  {(x-y)**2 의 합}**0.5\n",
    "v1, v2 = [1,2,3] , [3,4,5]\n",
    "\n",
    "diff_square_sum = 0  #(x-y)**2 의 합\n",
    "for dim_idx in range(len(v1)):\n",
    "    diff_square_sum += (v1[dim_idx] - v2[dim_idx])**2\n",
    "e_distance = (diff_square_sum)**0.5\n",
    "print(\"e_distance :\" , e_distance)"
   ]
  },
  {
   "cell_type": "code",
   "execution_count": 29,
   "id": "4687e4de",
   "metadata": {},
   "outputs": [
    {
     "name": "stdout",
     "output_type": "stream",
     "text": [
      "MSE:  41.666666666666664\n"
     ]
    }
   ],
   "source": [
    "#%% Mean square Error : {(x-y)**2 의 합}의 평균 \n",
    "#    mse는 굳이 e_distance를 구하지 않아도 된다\n",
    "predictions = [10,20,30]\n",
    "labels = [10, 25, 40]\n",
    "\n",
    "n_data = len(predictions)\n",
    "diff_square_sum = 0\n",
    "for data_idx in range(n_data):\n",
    "    diff_square_sum += (predictions[data_idx] - labels[data_idx])**2\n",
    "# e_distance = diff_square_sum**0.5\n",
    "mse = diff_square_sum / n_data\n",
    "print(\"MSE: \", mse)"
   ]
  },
  {
   "cell_type": "code",
   "execution_count": 31,
   "id": "9cfe1651",
   "metadata": {},
   "outputs": [
    {
     "name": "stdout",
     "output_type": "stream",
     "text": [
      "[1, 3, 4, 3, 4]\n"
     ]
    }
   ],
   "source": [
    "#%% 0,1,2,3,4 의 갯수가 몇개있는지 세는 알고리즘\n",
    "# number[0] = 0 , number_cnt[0] += 1 \n",
    "# number[1] = 2 , number_cnt[2] += 1 \n",
    "# number[2] = 4 , number_cnt[4] += 1  반복이된다\n",
    "\n",
    "numbers = [0,2,4,2,1,4,3,1,2,3,4,1,2,3,4] \n",
    "number_cnt = [0,0,0,0,0] \n",
    "#             0 1 2 3 4 의 자리 \n",
    "#            즉, 5의자리는 없다 5의 자리가 추가되려면 0을 한개 더생성해야한다 [0,0,0,0,0,0]\n",
    "#1) \n",
    "for idx in numbers:\n",
    "    number_cnt[idx] += 1\n",
    "print(number_cnt)\n"
   ]
  }
 ],
 "metadata": {
  "kernelspec": {
   "display_name": "Python 3 (ipykernel)",
   "language": "python",
   "name": "python3"
  },
  "language_info": {
   "codemirror_mode": {
    "name": "ipython",
    "version": 3
   },
   "file_extension": ".py",
   "mimetype": "text/x-python",
   "name": "python",
   "nbconvert_exporter": "python",
   "pygments_lexer": "ipython3",
   "version": "3.9.7"
  }
 },
 "nbformat": 4,
 "nbformat_minor": 5
}
