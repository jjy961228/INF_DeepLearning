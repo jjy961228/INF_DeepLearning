{
 "cells": [
  {
   "cell_type": "code",
   "execution_count": 7,
   "id": "a474ce27",
   "metadata": {},
   "outputs": [
    {
     "name": "stdout",
     "output_type": "stream",
     "text": [
      "10 10\n",
      "30 20\n",
      "60 30\n",
      "scores_sum:  60\n"
     ]
    }
   ],
   "source": [
    "#%% 1-37) for loop 안에서 총합구하기\n",
    "scores = [10, 20, 30]\n",
    "\n",
    "scores_sum = 0\n",
    "for score in scores:\n",
    "    #score를 따로 선언해주지 않아도 forEach문으로 값을 넣어줄 수 있다\n",
    "    scores_sum += score\n",
    "    print(scores_sum , score)\n",
    "print(\"scores_sum: \" , scores_sum)"
   ]
  },
  {
   "cell_type": "code",
   "execution_count": 10,
   "id": "976d859b",
   "metadata": {},
   "outputs": [
    {
     "name": "stdout",
     "output_type": "stream",
     "text": [
      "1\n",
      "6\n",
      "4\n",
      "2\n",
      "3\n",
      "forloop의 횟수:  5\n"
     ]
    }
   ],
   "source": [
    "#%% 1-38) for loop 이 몇번돌았는지 conut\n",
    "numbers = [1,6,4,2,3]\n",
    "iter_int = 0 #iter_int : for loop이 몇번 돌았는지만 count 하기위해 선언\n",
    "\n",
    "#python 에서 _는 의미없는 변수를 선언할때 많이 사용된다\n",
    "# numbers의 요소가 _에 담기게되고 우리는 결국 forloop이 몇번 돌았는지만 궁금하다\n",
    "# 즉 i 와같은 문자인데, 아무 의미가 없을때는 _로 선언한다\n",
    "for _ in numbers :\n",
    "    print(_)\n",
    "    iter_int += 1\n",
    "print(\"forloop의 횟수: \", iter_int)"
   ]
  },
  {
   "cell_type": "code",
   "execution_count": 13,
   "id": "f24e3f74",
   "metadata": {},
   "outputs": [
    {
     "name": "stdout",
     "output_type": "stream",
     "text": [
      "[0, 1, 2, 3, 4, 5, 6, 7, 8, 9, 10, 11, 12, 13, 14, 15, 16, 17, 18, 19, 20, 21, 22, 23, 24, 25, 26, 27, 28, 29, 30, 31, 32, 33, 34, 35, 36, 37, 38, 39, 40, 41, 42, 43, 44, 45, 46, 47, 48, 49, 50, 51, 52, 53, 54, 55, 56, 57, 58, 59, 60, 61, 62, 63, 64, 65, 66, 67, 68, 69, 70, 71, 72, 73, 74, 75, 76, 77, 78, 79, 80, 81, 82, 83, 84, 85, 86, 87, 88, 89, 90, 91, 92, 93, 94, 95, 96, 97, 98, 99, 100]\n"
     ]
    }
   ],
   "source": [
    "#%% 1-40) 1~100까지 리스트로 구하기\n",
    "numbers = list()\n",
    "for i in range(101):\n",
    "    numbers.append(i)\n",
    "print(numbers)"
   ]
  },
  {
   "cell_type": "code",
   "execution_count": 16,
   "id": "e60c0dc6",
   "metadata": {},
   "outputs": [
    {
     "name": "stdout",
     "output_type": "stream",
     "text": [
      "[4, 6, 8, 10, 12, 14, 16, 18, 20, 22, 24, 26, 28, 30, 32, 34, 36, 38, 40, 42, 44, 46, 48, 50, 52, 54, 56, 58, 60, 62, 64, 66, 68, 70, 72, 74, 76, 78, 80, 82, 84, 86, 88, 90, 92, 94, 96, 98, 100, 102, 104, 106, 108, 110, 112, 114, 116, 118, 120, 122, 124, 126, 128, 130, 132, 134, 136, 138, 140, 142, 144, 146, 148, 150, 152, 154, 156, 158, 160, 162, 164, 166, 168, 170, 172, 174, 176, 178, 180, 182, 184, 186, 188, 190, 192, 194, 196, 198, 200, 202, 204]\n"
     ]
    }
   ],
   "source": [
    "#%% 2의 배수만 뽑기\n",
    "numbers = list()\n",
    "for i in range(101):\n",
    "    i += 2\n",
    "    numbers.append(2*i)\n",
    "print(numbers)"
   ]
  },
  {
   "cell_type": "code",
   "execution_count": 17,
   "id": "e9769bd9",
   "metadata": {},
   "outputs": [
    {
     "name": "stdout",
     "output_type": "stream",
     "text": [
      "[0, 0, 0, 0, 0, 0, 0, 0, 0, 0, 0, 0, 0, 0, 0, 0, 0, 0, 0, 0, 0, 0, 0, 0, 0, 0, 0, 0, 0, 0, 0, 0, 0, 0, 0, 0, 0, 0, 0, 0, 0, 0, 0, 0, 0, 0, 0, 0, 0, 0, 0, 0, 0, 0, 0, 0, 0, 0, 0, 0, 0, 0, 0, 0, 0, 0, 0, 0, 0, 0, 0, 0, 0, 0, 0, 0, 0, 0, 0, 0, 0, 0, 0, 0, 0, 0, 0, 0, 0, 0, 0, 0, 0, 0, 0, 0, 0, 0, 0, 0, 0]\n"
     ]
    }
   ],
   "source": [
    "#%% 원소가 0인것만 넣기\n",
    "numbers = list()\n",
    "for _ in range (101):\n",
    "    numbers.append(0)\n",
    "print(numbers)"
   ]
  }
 ],
 "metadata": {
  "kernelspec": {
   "display_name": "Python 3 (ipykernel)",
   "language": "python",
   "name": "python3"
  },
  "language_info": {
   "codemirror_mode": {
    "name": "ipython",
    "version": 3
   },
   "file_extension": ".py",
   "mimetype": "text/x-python",
   "name": "python",
   "nbconvert_exporter": "python",
   "pygments_lexer": "ipython3",
   "version": "3.9.7"
  }
 },
 "nbformat": 4,
 "nbformat_minor": 5
}
