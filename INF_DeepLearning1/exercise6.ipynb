{
 "cells": [
  {
   "cell_type": "code",
   "execution_count": 1,
   "id": "d4da0e16",
   "metadata": {},
   "outputs": [
    {
     "name": "stdout",
     "output_type": "stream",
     "text": [
      "[20, 30, 40, 50, 60]\n"
     ]
    }
   ],
   "source": [
    "#%% 1-43) forLoop을 이용해 list의요소 수정하기\n",
    "scores = [10, 20, 30, 40, 50]\n",
    "for scores_idx in range(len(scores)):\n",
    "    scores[scores_idx] += 10\n",
    "print(scores)"
   ]
  },
  {
   "cell_type": "code",
   "execution_count": 2,
   "id": "5ade1d39",
   "metadata": {},
   "outputs": [
    {
     "name": "stdout",
     "output_type": "stream",
     "text": [
      "10 100\n",
      "20 200\n",
      "30 300\n"
     ]
    }
   ],
   "source": [
    "#%% forLoop을 이용해 두개의 list에 접근하기\n",
    "list1 = [10,20,30]\n",
    "list2 = [100,200,300]\n",
    "\n",
    "for list_idx in range(len(list1)):\n",
    "    print(list1[list_idx] , list2[list_idx])\n"
   ]
  },
  {
   "cell_type": "code",
   "execution_count": 38,
   "id": "5a223138",
   "metadata": {},
   "outputs": [
    {
     "name": "stdout",
     "output_type": "stream",
     "text": [
      "scores_mean:  20.0\n",
      "scores_mean:  20.0\n"
     ]
    }
   ],
   "source": [
    "#%% 1-45) 평균 구하기(3)\n",
    "scores = [10,20,30]\n",
    "\n",
    "#method1.\n",
    "score_sum = 0\n",
    "n_sutdent= 0 #iter_int와 같다 : forLoop가 몇번돌아갔는지 count해주기 위해\n",
    "            #                   -> 평균구할때 사용된다\n",
    "for score in scores :\n",
    "    score_sum += score\n",
    "    n_sutdent += 1\n",
    "print(\"scores_mean: \",  score_sum / n_sutdent)\n",
    "\n",
    "#method2.\n",
    "score_sum = 0\n",
    "for score_idx in range(len(scores)):\n",
    "    score_sum += scores[score_idx]\n",
    "print(\"scores_mean: \", score_sum/len(scores))"
   ]
  },
  {
   "cell_type": "code",
   "execution_count": 19,
   "id": "2f0c0104",
   "metadata": {},
   "outputs": [
    {
     "name": "stdout",
     "output_type": "stream",
     "text": [
      "20.0\n",
      "Mean Subtraction:  [-10.0, 0.0, 10.0]\n",
      "Maen Subtraction의 평균:  0.0\n",
      "=====Method2.======\n",
      "x :=x-mean:  [-10.0, 0.0, 10.0]\n",
      "Mean Subtraction의 평균:  0.0\n"
     ]
    }
   ],
   "source": [
    "#%% 1-46) Meean Subtraction(4)\n",
    "scores = [10,20,30]\n",
    "scores_mean = (scores[0] + scores[1] + scores[2]) / len(scores)\n",
    "print(scores_mean)\n",
    "#method1.\n",
    "scores_ms = list()\n",
    "for score in scores :\n",
    "    scores_ms.append(score - scores_mean)\n",
    "print(\"Mean Subtraction: \", scores_ms)\n",
    "\n",
    "scores_ms_mean = (scores_ms[0] + scores_ms[1] + scores_ms[2])\n",
    "print(\"Maen Subtraction의 평균: \", scores_ms_mean)\n",
    "\n",
    "#Method2.\n",
    "print(\"=====Method2.======\")\n",
    "scores_sum = 0\n",
    "for idx in range(len(scores)):\n",
    "    scores[idx] -= scores_mean\n",
    "print(\"x :=x-mean: \" , scores)\n",
    "\n",
    "scores_ms_mean = (scores_ms[0] + scores_ms[1] + scores_ms[2])\n",
    "print(\"Mean Subtraction의 평균: \", scores_ms_mean)\n",
    "\n",
    "\n",
    "\n"
   ]
  },
  {
   "cell_type": "code",
   "execution_count": 77,
   "id": "4f70e926",
   "metadata": {},
   "outputs": [
    {
     "name": "stdout",
     "output_type": "stream",
     "text": [
      "score_sums = [수학,영어] :  [0, 0]\n",
      "score_sums = [수학,영어] :  [180, 120]\n",
      "score_means = [수학평균,영어평균] : [60.0, 40.0]\n"
     ]
    }
   ],
   "source": [
    "#%% 1-47) 두과목의 평균 구하기\n",
    "math_scores = [40,60,80]\n",
    "english_scores = [30,40,50]\n",
    "\n",
    "n_class = 2\n",
    "n_sutdent = len(math_scores)\n",
    "\n",
    "#점수의 합계 구하기 \n",
    "score_sums = list()\n",
    "#1) score_sums 초기화\n",
    "for _ in range(n_class):\n",
    "    score_sums.append(0)\n",
    "print(\"score_sums = [수학,영어] : \",score_sums)\n",
    "#2) score_sum의 합계 구하기\n",
    "for student_idx in range(n_student): #(수학,영어) 합계 : 학생수만큼 더해야한다 -> n_student만큼 반복해야한다\n",
    "                                     #이때 sutdnet_sum은 [수학합계,영어합계] 형태로 들어간다 \n",
    "                                      #                   sums[0] , sums[1]\n",
    "    score_sums[0] += math_scores[student_idx]\n",
    "    score_sums[1] += english_scores[student_idx]\n",
    "print(\"score_sums = [수학,영어] : \",score_sums)\n",
    "\n",
    "#3) student_means 구하기              #(수학,영어)평균 : 이미합계는 구해졌고, \n",
    "                                    # student_means = [수학평균,영어평균]  형태로 만들어야한다 \n",
    "                                    #                -> 과목갯수 n_class로 반복후, class_idx로 접근  \n",
    "#class_means = [0,0]        \n",
    "class_means = list() #\n",
    "for class_idx in range(n_class) :\n",
    "    #class_means[class_idx] = score_sums[class_idx] / n_student       #class_means = [0,0]으로 선언했을때 방법\n",
    "    \n",
    "    #class_means = list() 로 선언했을때는 append로 추가해줘야한다\n",
    "    class_mean = score_sums[class_idx] / n_student\n",
    "    class_means.append(class_mean)\n",
    "print(\"score_means = [수학평균,영어평균] :\" ,class_means)\n",
    "\n"
   ]
  },
  {
   "cell_type": "code",
   "execution_count": 90,
   "id": "034f54d6",
   "metadata": {},
   "outputs": [
    {
     "name": "stdout",
     "output_type": "stream",
     "text": [
      "score_sums = [수학,영어] :  [0, 0]\n",
      "score_sums = [수학,영어] :  [180, 120]\n",
      "score_means = [수학평균,영어평균] : [60.0, 40.0]\n",
      "Mean Subtraction :  [-20.0, 0.0, 20.0] [-10.0, 0.0, 10.0]\n",
      "Mean Subtraction의 평균:  0.0\n"
     ]
    }
   ],
   "source": [
    "#%% 1-48) Mean Subtraction 구하기 : 1-47의 값들 이용\n",
    "\n",
    "math_scores = [40,60,80]\n",
    "english_scores = [30,40,50]\n",
    "\n",
    "n_class = 2 #과목갯수 2\n",
    "n_sutdent = len(math_scores) #학생수 3\n",
    "\n",
    "#점수의 합계 구하기 \n",
    "score_sums = list()\n",
    "#1) score_sums 초기화\n",
    "for _ in range(n_class):\n",
    "    score_sums.append(0)\n",
    "print(\"score_sums = [수학,영어] : \",score_sums)\n",
    "#2) score_sum의 합계 구하기\n",
    "for student_idx in range(n_student): #(수학,영어) 합계 : 학생수만큼 더해야한다 -> n_student만큼 반복해야한다\n",
    "                                     #이때 sutdnet_sum은 [수학합계,영어합계] 형태로 들어간다 \n",
    "                                      #                   sums[0] , sums[1]\n",
    "    score_sums[0] += math_scores[student_idx]\n",
    "    score_sums[1] += english_scores[student_idx]\n",
    "print(\"score_sums = [수학,영어] : \",score_sums)\n",
    "\n",
    "#3) student_means 구하기              #(수학,영어)평균 : 이미합계는 구해졌고, \n",
    "                                    # student_means = [수학평균,영어평균]  형태로 만들어야한다 \n",
    "                                    #                -> 과목갯수 n_class로 반복후, class_idx로 접근  \n",
    "#class_means = [0,0]        \n",
    "score_means = list() #\n",
    "for class_idx in range(n_class) :\n",
    "    #class_means[class_idx] = score_sums[class_idx] / n_student       #class_means = [0,0]으로 선언했을때 방법\n",
    "    \n",
    "    #class_means = list() 로 선언했을때는 append로 추가해줘야한다\n",
    "    score_mean = score_sums[class_idx] / n_student\n",
    "    score_means.append(score_mean)\n",
    "print(\"score_means = [수학평균,영어평균] :\" ,score_means)\n",
    "\n",
    "#4) Mean Subtraction 구하기 \n",
    "# x := x-mean    학생수만큼 평균을 빼줘야한다 -> n_student이용\n",
    "for student_idx in range(n_student):\n",
    "   math_scores[student_idx] -= score_means[0]\n",
    "   english_scores[student_idx] -= score_means[1]\n",
    "print(\"Mean Subtraction : \",math_scores, english_scores )\n",
    "\n",
    "scores_ms_mean = (scores_ms[0] + scores_ms[1] + scores_ms[2])\n",
    "print(\"Mean Subtraction의 평균: \", scores_ms_mean)\n"
   ]
  }
 ],
 "metadata": {
  "kernelspec": {
   "display_name": "Python 3 (ipykernel)",
   "language": "python",
   "name": "python3"
  },
  "language_info": {
   "codemirror_mode": {
    "name": "ipython",
    "version": 3
   },
   "file_extension": ".py",
   "mimetype": "text/x-python",
   "name": "python",
   "nbconvert_exporter": "python",
   "pygments_lexer": "ipython3",
   "version": "3.9.7"
  }
 },
 "nbformat": 4,
 "nbformat_minor": 5
}
