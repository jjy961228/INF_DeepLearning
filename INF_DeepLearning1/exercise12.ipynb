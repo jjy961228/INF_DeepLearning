{
 "cells": [
  {
   "cell_type": "code",
   "execution_count": 12,
   "id": "9f80b1eb",
   "metadata": {},
   "outputs": [
    {
     "name": "stdout",
     "output_type": "stream",
     "text": [
      "맞춘갯수:  5\n",
      "Accuracy(%) 45.45454545454545 %\n"
     ]
    }
   ],
   "source": [
    "#%% 1-77) Accuracy: 정확도\n",
    "# 실제값 10개중 맞춘갯수 5개 -> Accuracy = 0.5\n",
    "prediction = [1,2,3,4,0,3,4,8,2,9,10]\n",
    "labels = [1,3,4,2,1,3,5,4,2,9,10]\n",
    "n_correct = 0 #맞춘갯수\n",
    "\n",
    "for pred_idx in range(len(prediction)):\n",
    "    if prediction[pred_idx] == labels[pred_idx]:\n",
    "        n_correct += 1\n",
    "print(\"맞춘갯수: \", n_correct)\n",
    "accuracy = n_correct / len(prediction)\n",
    "print(\"Accuracy(%)\", accuracy * 100 , \"%\")\n"
   ]
  },
  {
   "cell_type": "code",
   "execution_count": 21,
   "id": "d2bab4d1",
   "metadata": {},
   "outputs": [
    {
     "name": "stdout",
     "output_type": "stream",
     "text": [
      "max class(클래스의 최대갯수): 4\n",
      "[0, 0, 0, 0] [0, 0, 0, 0] [None, None, None, None]\n",
      "class의 갯수:  [0, 1, 0, 0] 맞춘갯수: [0, 0, 0, 0]\n",
      "class의 갯수:  [0, 1, 1, 0] 맞춘갯수: [0, 0, 0, 0]\n",
      "class의 갯수:  [1, 1, 1, 0] 맞춘갯수: [0, 0, 0, 0]\n",
      "class의 갯수:  [1, 2, 1, 0] 맞춘갯수: [0, 0, 0, 0]\n",
      "class의 갯수:  [1, 2, 1, 1] 맞춘갯수: [0, 0, 0, 0]\n",
      "class의 갯수:  [1, 3, 1, 1] 맞춘갯수: [0, 0, 0, 0]\n",
      "class의 갯수:  [1, 3, 2, 1] 맞춘갯수: [0, 0, 0, 0]\n",
      "class의 갯수:  [1, 3, 2, 2] 맞춘갯수: [0, 0, 0, 0]\n",
      "class의 갯수:  [2, 3, 2, 2] 맞춘갯수: [0, 0, 0, 0]\n",
      "class의 갯수:  [2, 4, 2, 2] 맞춘갯수: [0, 0, 0, 0]\n",
      "class의 갯수:  [2, 4, 3, 2] 맞춘갯수: [0, 0, 1, 0]\n",
      "class의 갯수:  [2, 4, 3, 3] 맞춘갯수: [0, 0, 1, 0]\n",
      "class의 갯수:  [2, 4, 4, 3] 맞춘갯수: [0, 0, 2, 0]\n",
      "class의 갯수:  [2, 5, 4, 3] 맞춘갯수: [0, 0, 2, 0]\n",
      "class의 갯수:  [2, 5, 5, 3] 맞춘갯수: [0, 0, 2, 0]\n",
      "class의 갯수:  [3, 5, 5, 3] 맞춘갯수: [0, 0, 2, 0]\n",
      "class의 갯수:  [3, 5, 6, 3] 맞춘갯수: [0, 0, 2, 0]\n",
      "class의 갯수:  [3, 6, 6, 3] 맞춘갯수: [0, 1, 2, 0]\n",
      "class의 갯수:  [3, 6, 7, 3] 맞춘갯수: [0, 1, 3, 0]\n",
      "class의 갯수:  [3, 6, 7, 4] 맞춘갯수: [0, 1, 3, 1]\n",
      "[0.0, 0.16666666666666666, 0.42857142857142855, 0.25]\n"
     ]
    }
   ],
   "source": [
    "#%% 1-78) Confusion Vector \n",
    "# [0 class,1 class,2 class ........ N class] 로 구분해야한다\n",
    "# -> 각각의 0이 몇개인지 , 1이 몇개인지  ..... N 이 몇개인지 알아야한다\n",
    "# -> 최댓값을 구해야한다 결국 , N class 를 알려면 최댓값을 알아야한다\n",
    "# -> 0 class의 확률 = 0맞춘갯수/ 0개의 갯수\n",
    "#    1 class의 확률 = 1맞춘갯수/ 1개의 갯수\n",
    "#    N class의 확률 = N맞춘갯수 / N개의 갯수\n",
    "predictions = [0,1,1,3,2,3,1,2,1,3,2,1,2,3,1,2,3,1,2,3]\n",
    "labels = [1,2,0,1,3,1,2,3,0,1,2,3,2,1,2,0,2,1,2,3]\n",
    "n_data = len(predictions)\n",
    "\n",
    "class_cnts = list() # 0class, 1class, 2class 각각 클래스의 0의총갯수,1의총갯수,2의총갯수\n",
    "correct_cnts = list() # 각가 맞춘갯수\n",
    "confusion_vec = list() # correct_cnts / class_cnts\n",
    "\n",
    "#최댓값 구하기    즉, class의 갯수 구하기\n",
    "max_class = None\n",
    "for label in labels :\n",
    "    if max_class == None or label > max_class:\n",
    "        max_class = label\n",
    "max_class += 1 #최댓값이 10 일때 for문을 돌리면 , 인덱스니까 9번째 까지밖에 못구한다. \n",
    "                # 따라서, +1 해줘야한다\n",
    "print(\"max class(클래스의 최대갯수):\" , max_class)\n",
    "\n",
    "#공간할당\n",
    "for _ in range (max_class):\n",
    "    class_cnts.append(0)\n",
    "    correct_cnts.append(0)\n",
    "    confusion_vec.append(None)\n",
    "print(class_cnts, correct_cnts,confusion_vec)\n",
    "#[0, 0, 0, 0, 0, 0, 0, 0, 0, 0, 0] [0, 0, 0, 0, 0, 0, 0, 0, 0, 0, 0] [None, None, None, None, None, None, None, None, None, None, None]\n",
    "#class 각각의 갯수                  class각각 맞춘갯수              correct_cnts /  class_cnts \n",
    "#class 각각의 index번호는 0,1,2, ''''''n클래스가 된다\n",
    "\n",
    "\n",
    "#pred 와 labels 비교 ,\n",
    "for pred_idx in range(n_data):\n",
    "    pred = predictions[pred_idx]\n",
    "    label = labels[pred_idx]\n",
    "    \n",
    "    class_cnts[label] += 1\n",
    "    \n",
    "    if pred == label :\n",
    "        correct_cnts[label] += 1\n",
    "    print(\"class의 갯수: \" , class_cnts , \"맞춘갯수:\" , correct_cnts)\n",
    "\n",
    "for class_idx in range(max_class):\n",
    "    confusion_vec[class_idx] = correct_cnts[class_idx] / class_cnts[class_idx]\n",
    "print(confusion_vec)"
   ]
  },
  {
   "cell_type": "code",
   "execution_count": 32,
   "id": "3e86a7f7",
   "metadata": {},
   "outputs": [
    {
     "name": "stdout",
     "output_type": "stream",
     "text": [
      "[0, 0, 1, 0, 0]\n",
      "[1, 0, 1, 0, 0]\n",
      "[1, 1, 1, 0, 0]\n",
      "[1, 2, 1, 0, 0]\n",
      "[2, 2, 1, 0, 0]\n",
      "[2, 2, 2, 0, 0]\n",
      "[2, 2, 2, 1, 0]\n",
      "[2, 2, 2, 2, 0]\n",
      "[2, 2, 2, 2, 1]\n",
      "[3, 2, 2, 2, 1]\n",
      "[3, 3, 2, 2, 1]\n"
     ]
    }
   ],
   "source": [
    "#%% 1-79) Histogram \n",
    "scores = [50, 20, 30, 40, 10, 50, 70, 80, 90, 20, 30]\n",
    "cutoffs = [0,20,40,60,80] #구간 0~19 , 20~39 ..... 80이상\n",
    "histogram = [0,0,0,0,0] # 각 구간의 갯수\n",
    "\n",
    "for score in scores:\n",
    "    if score > cutoffs[4] :\n",
    "        histogram[4] += 1\n",
    "    elif score > cutoffs[3] :\n",
    "        histogram[3] += 1\n",
    "    elif score > cutoffs[2] :\n",
    "        histogram[2] += 1\n",
    "    elif score > cutoffs[1] :\n",
    "        histogram[1] += 1\n",
    "    elif score > cutoffs[0] :\n",
    "        histogram[0] += 1\n",
    "    else :\n",
    "        pass\n",
    "    print(histogram)"
   ]
  },
  {
   "cell_type": "code",
   "execution_count": 35,
   "id": "458a0a62",
   "metadata": {},
   "outputs": [
    {
     "name": "stdout",
     "output_type": "stream",
     "text": [
      "[2, 2, 1, 3, 4, 9]\n"
     ]
    }
   ],
   "source": [
    "#%% absolute : 절댓값\n",
    "numbers = [-2, 2, -1, 3, -4, 9]\n",
    "abs_numbers = list() #절댓값을 담을 공간\n",
    "\n",
    "for num in numbers:\n",
    "    if num < 0 :\n",
    "        abs_numbers.append(-num)\n",
    "    else:\n",
    "        abs_numbers.append(num)\n",
    "print(abs_numbers)"
   ]
  },
  {
   "cell_type": "code",
   "execution_count": 37,
   "id": "2824b594",
   "metadata": {},
   "outputs": [
    {
     "name": "stdout",
     "output_type": "stream",
     "text": [
      "Manhattan Distance : 25\n"
     ]
    }
   ],
   "source": [
    "#%% 1- 81)Manhattan Distance : 맨하탄 거리 (절댓값)\n",
    "# m_distance에 누적시킨다\n",
    "v1 = [1, 3, 5, 2, 1, 5, 2]\n",
    "v2 = [-2, -1, 0 , 5, 2, 3 , -5]\n",
    "\n",
    "m_distance = 0\n",
    "for dim_idx in range (len(v1)):\n",
    "    sub = v1[dim_idx] - v2[dim_idx]\n",
    "    if sub < 0 :\n",
    "        m_distance += -sub\n",
    "    else:\n",
    "        m_distance += sub\n",
    "print(\"Manhattan Distance :\" , m_distance)"
   ]
  }
 ],
 "metadata": {
  "kernelspec": {
   "display_name": "Python 3 (ipykernel)",
   "language": "python",
   "name": "python3"
  },
  "language_info": {
   "codemirror_mode": {
    "name": "ipython",
    "version": 3
   },
   "file_extension": ".py",
   "mimetype": "text/x-python",
   "name": "python",
   "nbconvert_exporter": "python",
   "pygments_lexer": "ipython3",
   "version": "3.9.7"
  }
 },
 "nbformat": 4,
 "nbformat_minor": 5
}
