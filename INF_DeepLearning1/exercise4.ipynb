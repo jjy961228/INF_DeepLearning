{
 "cells": [
  {
   "cell_type": "code",
   "execution_count": 2,
   "id": "31d7e23f",
   "metadata": {
    "scrolled": true
   },
   "outputs": [
    {
     "name": "stdout",
     "output_type": "stream",
     "text": [
      "v3:  [4, 10, 18]\n"
     ]
    }
   ],
   "source": [
    "#%%  1-28)\n",
    "#Hardamard Product(2)\n",
    "v1 = [1,2,3]\n",
    "v2 = [4,5,6]\n",
    "\n",
    "#method1\n",
    "v3 = [ v1[0]*v2[0] ,v1[1] * v2[1] , v1[2] * v2[2]]\n",
    "print(\"v3: \" , v3)"
   ]
  },
  {
   "cell_type": "code",
   "execution_count": 4,
   "id": "59e84871",
   "metadata": {},
   "outputs": [
    {
     "name": "stdout",
     "output_type": "stream",
     "text": [
      "v3:  [4, 10, 18]\n"
     ]
    }
   ],
   "source": [
    "#method2\n",
    "v3[0] = v1[0] * v2[0]\n",
    "v3[1] = v1[1] * v2[1]\n",
    "v3[2] = v1[2] * v2[2]\n",
    "\n",
    "print(\"v3: \", v3)"
   ]
  },
  {
   "cell_type": "code",
   "execution_count": 6,
   "id": "94ee6ff1",
   "metadata": {},
   "outputs": [
    {
     "name": "stdout",
     "output_type": "stream",
     "text": [
      "[10, 20, 30]\n"
     ]
    }
   ],
   "source": [
    "#method3\n",
    "v1 = []\n",
    "v1.append(10)\n",
    "v1.append(20)\n",
    "v1.append(30)\n",
    "\n",
    "print(v1)"
   ]
  },
  {
   "cell_type": "code",
   "execution_count": 13,
   "id": "80a6105c",
   "metadata": {},
   "outputs": [
    {
     "name": "stdout",
     "output_type": "stream",
     "text": [
      "[10, 20, 30]\n"
     ]
    }
   ],
   "source": [
    "#method4 : list.inert이용\n",
    "v1= list()\n",
    "v1.insert(0, 10)\n",
    "v1.insert(1, 20)\n",
    "v1.insert(2, 30)\n",
    "print(v1)"
   ]
  },
  {
   "cell_type": "code",
   "execution_count": 17,
   "id": "1ed1de59",
   "metadata": {},
   "outputs": [
    {
     "name": "stdout",
     "output_type": "stream",
     "text": [
      "[4, 10, 18]\n"
     ]
    }
   ],
   "source": [
    "#method5 \n",
    "v1, v2 = [1,2,3] , [4,5,6]\n",
    "v3 = list()\n",
    "\n",
    "#v3.append(v1[0] * v2[0] , v1[1] * v2[1] , v1[2] * v2[2]) append는 한개씩밖에 추가못한다\n",
    "v3.append(v1[0] * v2[0])\n",
    "v3.append(v1[1] * v2[1])\n",
    "v3.append(v1[2] * v2[2])\n",
    "print(v3)"
   ]
  },
  {
   "cell_type": "code",
   "execution_count": 20,
   "id": "6e74d1fa",
   "metadata": {},
   "outputs": [
    {
     "name": "stdout",
     "output_type": "stream",
     "text": [
      "3.7416573867739413\n",
      "3.7416573867739413\n"
     ]
    }
   ],
   "source": [
    "#%% Vector Norm\n",
    "v1 = [1,2,3]\n",
    "#method1\n",
    "norm = (v1[0]**2 + v1[1]**2 + v1[2]**2)**0.5\n",
    "print(norm)\n",
    "\n",
    "#method2\n",
    "norm = 0\n",
    "norm += (v1[0]**2)\n",
    "norm += (v1[1]**2)\n",
    "norm += (v1[2]**2)\n",
    "norm **= 0.5\n",
    "print(norm)"
   ]
  },
  {
   "cell_type": "code",
   "execution_count": 26,
   "id": "15a06e2b",
   "metadata": {},
   "outputs": [
    {
     "name": "stdout",
     "output_type": "stream",
     "text": [
      "norm값:  3.7416573867739413\n",
      "u_vec:  (0.2672612419124244, 0.5345224838248488, 0.8017837257372732)\n",
      "unit_vec를 곱한후의 norm값:  1.0\n"
     ]
    }
   ],
   "source": [
    "#%% Making unit Vecotrs(2)\n",
    "v1 = [1,2,3]\n",
    "norm = (v1[0]**2 + v1[1]**2 + v1[2]**2)**0.5\n",
    "print(\"norm값: \", norm)\n",
    "\n",
    "u_vec = (v1[0]/norm, v1[1]/norm, v1[2]/norm)\n",
    "print(\"u_vec: \", u_vec)\n",
    "\n",
    "norm = (u_vec[0]**2 + u_vec[1]**2 + u_vec[2]**2)**0.5\n",
    "print(\"unit_vec를 곱한후의 norm값: \", norm)"
   ]
  },
  {
   "cell_type": "code",
   "execution_count": 33,
   "id": "afbd8764",
   "metadata": {},
   "outputs": [
    {
     "name": "stdout",
     "output_type": "stream",
     "text": [
      "dot_prod:  32\n",
      "dot_prod:  21\n"
     ]
    }
   ],
   "source": [
    "#%% Dot Product(2)\n",
    "v1, v2 = [1,2,3] , [4,5,6]\n",
    "\n",
    "#method1.\n",
    "dot_pord = v1[0] * v2[0] + v1[1] * v2[1] + v1[2]* v2[2]\n",
    "print(\"dot_prod: \", dot_pord)\n",
    "\n",
    "#method2.\n",
    "dot_prod = 0\n",
    "dot_prod += v1[0] + v2[0]\n",
    "dot_prod += v1[1] + v2[1]\n",
    "dot_prod += v1[2] + v2[2]\n",
    "print(\"dot_prod: \", dot_prod)"
   ]
  },
  {
   "cell_type": "code",
   "execution_count": 53,
   "id": "ad90a704",
   "metadata": {},
   "outputs": [
    {
     "name": "stdout",
     "output_type": "stream",
     "text": [
      "Squared_Error1:  0\n",
      "Squared_Error2:  25\n",
      "Squared_Error3:  100\n",
      "mse:  41.666666666666664\n",
      "\n"
     ]
    }
   ],
   "source": [
    "#Mean Squared Error(2)\n",
    "predictions =[10,20,30] #예측값\n",
    "labels = [10,25,40] #실제값\n",
    "n_data = len(predictions)\n",
    "\n",
    "#Squared Error\n",
    "se1 = (predictions[0]-labels[0])**2\n",
    "se2 = (predictions[1]-labels[1])**2\n",
    "se3 = (predictions[2]-labels[2])**2\n",
    "print(\"Squared_Error1: \" , se1)\n",
    "print(\"Squared_Error2: \" , se2)\n",
    "print(\"Squared_Error3: \" , se3)\n",
    "\n",
    "mse = ((predictions[0]-labels[0])**2 + (predictions[1]-labels[1])**2 + (predictions[2]-labels[2])**2) / n_data\n",
    "print(\"mse: \", mse)\n",
    "print(\"\")"
   ]
  },
  {
   "cell_type": "code",
   "execution_count": null,
   "id": "5f06ecaf",
   "metadata": {},
   "outputs": [],
   "source": []
  }
 ],
 "metadata": {
  "kernelspec": {
   "display_name": "Python 3 (ipykernel)",
   "language": "python",
   "name": "python3"
  },
  "language_info": {
   "codemirror_mode": {
    "name": "ipython",
    "version": 3
   },
   "file_extension": ".py",
   "mimetype": "text/x-python",
   "name": "python",
   "nbconvert_exporter": "python",
   "pygments_lexer": "ipython3",
   "version": "3.9.7"
  }
 },
 "nbformat": 4,
 "nbformat_minor": 5
}
