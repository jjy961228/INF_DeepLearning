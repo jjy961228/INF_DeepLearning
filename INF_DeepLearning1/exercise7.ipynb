{
 "cells": [
  {
   "cell_type": "code",
   "execution_count": 27,
   "id": "e587e777",
   "metadata": {},
   "outputs": [
    {
     "name": "stdout",
     "output_type": "stream",
     "text": [
      "variance: 66.66666666666669 std :8.16496580927726\n"
     ]
    }
   ],
   "source": [
    "#%% 1-49 Variance & Stadard deviation(3)\n",
    "scores = [10, 20, 30]\n",
    "n_student = len(scores)\n",
    "\n",
    "#1)vaiance를 구하기위해 score의 sum, score**2의 sum을 각각 구해준다\n",
    "score_sum = 0\n",
    "score_square_sum = 0 #sum 제곱의 합\n",
    "for score in scores:\n",
    "    score_sum += score\n",
    "    score_square_sum += score**2 \n",
    "\n",
    "#2)vaviance를 구하기위해 필요한 \n",
    "mean = score_sum / n_student\n",
    "mean_of_square = score_square_sum / n_student #제곱의 평균\n",
    "square_of_mean = mean**2 #평균의 제곱\n",
    "\n",
    "#3)\n",
    "variance = mean_of_square - square_of_mean\n",
    "std = variance**0.5\n",
    "\n",
    "print(\"variance: {} std :{}\".format(variance, std))\n"
   ]
  },
  {
   "cell_type": "code",
   "execution_count": 55,
   "id": "f7a0421b",
   "metadata": {},
   "outputs": [
    {
     "name": "stdout",
     "output_type": "stream",
     "text": [
      "=====표준화 전===== \n",
      "scores before Stadadizaiton:  [10, 20, 30, 20, 50, 10, 50, 20]\n",
      "Mean before Standardization:  26.25\n",
      "Variance before Standardization:  223.4375\n",
      "Stadard Diviation before Standardizaiton:  14.947825928876748\n",
      "=====표준화 후=====\n",
      "표준화된 scores :  [-1.087114613009218, -0.4181210050035454, 0.2508726030021272, -0.4181210050035454, 1.5888598190134724, -1.087114613009218, 1.5888598190134724, -0.4181210050035454] \n",
      "\n",
      "scores after Stadadizaiton:  [-1.087114613009218, -0.4181210050035454, 0.2508726030021272, -0.4181210050035454, 1.5888598190134724, -1.087114613009218, 1.5888598190134724, -0.4181210050035454] \n",
      "\n",
      "Mean after Standardization:  2.0816681711721685e-17\n",
      "Variance after Standardization:  0.9999999999999999\n",
      "Stadard Diviation after Standardizaiton:  1.0\n"
     ]
    }
   ],
   "source": [
    "#%% 1-50) Stadardization 표준화  \n",
    "# 표준화 시켜주기 위해선 mean, variance, std 가 필요하다 \n",
    "# mean, variance, std 을 구해서, (x-mean) std 를구한다\n",
    "# score <- (x-mean) std 다시 대입해준다\n",
    "# 표준화된 mean, variance, std 를 다시구한다\n",
    "scores = [10, 20, 30, 20, 50, 10, 50, 20]\n",
    "n_student = len(scores)\n",
    "\n",
    "#1)vaiance를 구하기위해 score의 sum, score**2의 sum을 각각 구해준다\n",
    "score_sum = 0\n",
    "score_square_sum = 0 #sum 제곱의 합\n",
    "for score in scores:\n",
    "    score_sum += score\n",
    "    score_square_sum += score**2 \n",
    "\n",
    "#2)vaviance를 구하기위해 필요한 \n",
    "mean = score_sum / n_student\n",
    "mean_of_square = score_square_sum / n_student #제곱의 평균\n",
    "square_of_mean = mean**2 #평균의 제곱\n",
    "\n",
    "#3)vaiance , std\n",
    "variance = mean_of_square - square_of_mean\n",
    "std = variance**0.5\n",
    "\n",
    "print(\"=====표준화 전===== \")\n",
    "print(\"scores before Stadadizaiton: \", scores)\n",
    "print(\"Mean before Standardization: \", mean)\n",
    "print(\"Variance before Standardization: \", variance)\n",
    "print(\"Stadard Diviation before Standardizaiton: \", std)\n",
    "\n",
    "########4)standardiziaton( (x-mean) / std)########  \n",
    "#                    scores <- (x-mean) / std         표준화된 scores-> scores에 대입               \n",
    "#                   그후, 다시 평균,분산,표준편차를 구헤준다\n",
    "#4-1) scores <- x-mean / std\n",
    "print(\"=====표준화 후=====\")\n",
    "for student_idx in range(n_student):\n",
    "     scores[student_idx] = (scores[student_idx] - mean) / std\n",
    "print(\"표준화된 scores : \", scores , \"\\n\")\n",
    "\n",
    "#4-2) 표준화된 score의 평균, 분산, 표준편차 구하기\n",
    "score_sum , score_square_sum = 0 , 0 #값 초기화 \n",
    "for score in scores:\n",
    "    score_sum += score\n",
    "    score_square_sum += score**2\n",
    "\n",
    "#mean, mean of square , square of mean 구하기\n",
    "mean = score_sum / n_student\n",
    "mean_of_square = score_square_sum / n_student\n",
    "square_of_mean = mean**2\n",
    "\n",
    "#variance, std 구하기\n",
    "variance = mean_of_square - square_of_mean\n",
    "std = variance**0.5\n",
    "\n",
    "print(\"scores after Stadadizaiton: \", scores , \"\\n\")\n",
    "print(\"Mean after Standardization: \", mean)\n",
    "print(\"Variance after Standardization: \", variance)\n",
    "print(\"Stadard Diviation after Standardizaiton: \", std)"
   ]
  },
  {
   "cell_type": "code",
   "execution_count": 88,
   "id": "93d3920a",
   "metadata": {},
   "outputs": [
    {
     "name": "stdout",
     "output_type": "stream",
     "text": [
      "Math_mean: 42.0 / Math_variance : 376.0 / Math_std : 19.390719429665317\n",
      "English_mean: 36.0 / English_mean_variance : 224.0 / English_mean_std : 14.966629547095765\n"
     ]
    }
   ],
   "source": [
    "#%% 1-51) Variance & std\n",
    "math_scores , english_scores = [30,60,70,20,30] , [30,40,50,10,50]\n",
    "n_student = len(math_scores)\n",
    "\n",
    "math_sums, english_sums = 0 , 0\n",
    "math_square_sums, english_square_sums = 0, 0\n",
    "#score의 합계 , score**2의 합계 \n",
    "for student_idx in range(n_student):\n",
    "    math_sums += math_scores[student_idx]\n",
    "    math_square_sums += (math_scores[student_idx])**2\n",
    "    \n",
    "    english_sums += english_scores[student_idx]\n",
    "    english_square_sums += (english_scores[student_idx])**2\n",
    "\n",
    "#mean, variance , std\n",
    "math_mean = math_sums / n_student\n",
    "english_mean = english_sums / n_student\n",
    "\n",
    "math_variance = math_square_sums / n_student - math_mean**2\n",
    "english_variance = english_square_sums / n_student - english_mean**2\n",
    "\n",
    "math_std = math_variance**0.5\n",
    "english_std = english_variance**0.5\n",
    "\n",
    "print(\"Math_mean: {} / Math_variance : {} / Math_std : {}\".format(math_mean, math_variance, math_std))\n",
    "print(\"English_mean: {} / English_mean_variance : {} / English_mean_std : {}\"\n",
    "      .format(english_mean, english_variance, english_std))\n"
   ]
  },
  {
   "cell_type": "code",
   "execution_count": 93,
   "id": "682542cd",
   "metadata": {},
   "outputs": [
    {
     "name": "stdout",
     "output_type": "stream",
     "text": [
      "Math_mean: 35.720290492066376 / Math_variance : 684.452034206535 / Math_std : 26.16203421384765\n",
      "English_mean: 25.798472536259503 / English_mean_variance : 354.6418813890724 / English_mean_std : 18.83193780228345\n"
     ]
    }
   ],
   "source": [
    "#1-51의 socre를 받아와서 평균,분산,표준편차 구하고, 표준화 시키기 \n",
    "# #################################수정필요함 \n",
    "for stduent_idx in range(n_student):\n",
    "    math_score = math_scores[student_idx]\n",
    "    english_score = english_scores[student_idx]\n",
    "    \n",
    "    math_scores[student_idx] = (math_score - math_mean) / math_std\n",
    "    english_scores[student_idx] = (english_score - english_mean) / math_std\n",
    "\n",
    "math_sums, english_sums = 0 , 0\n",
    "math_square_sums, english_square_sums = 0, 0\n",
    "#score의 합계 , score**2의 합계 \n",
    "for student_idx in range(n_student):\n",
    "    math_sums += math_scores[student_idx]\n",
    "    math_square_sums += (math_scores[student_idx])**2\n",
    "    \n",
    "    english_sums += english_scores[student_idx]\n",
    "    english_square_sums += (english_scores[student_idx])**2\n",
    "\n",
    "#mean, variance , std\n",
    "math_mean = math_sums / n_student\n",
    "english_mean = english_sums / n_student\n",
    "\n",
    "math_variance = math_square_sums / n_student - math_mean**2\n",
    "english_variance = english_square_sums / n_student - english_mean**2\n",
    "\n",
    "math_std = math_variance**0.5\n",
    "english_std = english_variance**0.5\n",
    "\n",
    "print(\"Math_mean: {} / Math_variance : {} / Math_std : {}\".format(math_mean, math_variance, math_std))\n",
    "print(\"English_mean: {} / English_mean_variance : {} / English_mean_std : {}\"\n",
    "      .format(english_mean, english_variance, english_std))"
   ]
  }
 ],
 "metadata": {
  "kernelspec": {
   "display_name": "Python 3 (ipykernel)",
   "language": "python",
   "name": "python3"
  },
  "language_info": {
   "codemirror_mode": {
    "name": "ipython",
    "version": 3
   },
   "file_extension": ".py",
   "mimetype": "text/x-python",
   "name": "python",
   "nbconvert_exporter": "python",
   "pygments_lexer": "ipython3",
   "version": "3.9.7"
  }
 },
 "nbformat": 4,
 "nbformat_minor": 5
}
