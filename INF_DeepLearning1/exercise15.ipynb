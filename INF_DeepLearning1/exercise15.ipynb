{
 "cells": [
  {
   "cell_type": "code",
   "execution_count": 6,
   "id": "98d23f11",
   "metadata": {},
   "outputs": [
    {
     "name": "stdout",
     "output_type": "stream",
     "text": [
      "[231, 528, 1287, 1344]\n"
     ]
    }
   ],
   "source": [
    "#%% Hardamard Products(5)\n",
    "#v1 = [1,2,3,4] \n",
    "#v2 = [11,12,13,14]\n",
    "#v3 = [21,22,23,24]\n",
    "vectors = [[1,11,21],\n",
    "           [2,12,22],\n",
    "           [3,13,23],\n",
    "           [4,14,24]]\n",
    "h_prod = list()\n",
    "for dim_data in vectors: #dim : dimension(차원)\n",
    "    dim_prod = 1 #dim_prod는 계속 곱해져야하기 때문에 0으로 해주면 안된다\n",
    "    for dim_val in dim_data:\n",
    "        #dim_prod = dim_prod * dim_val\n",
    "        dim_prod *= dim_val\n",
    "        #print(dim_prod)\n",
    "    h_prod.append(dim_prod)\n",
    "print(h_prod)\n",
    "        "
   ]
  },
  {
   "cell_type": "code",
   "execution_count": 44,
   "id": "c4db5e06",
   "metadata": {},
   "outputs": [
    {
     "name": "stdout",
     "output_type": "stream",
     "text": [
      "[30, 630, 2030]\n",
      "[5.477225575051661, 25.099800796022265, 45.05552130427524]\n"
     ]
    }
   ],
   "source": [
    "#%% 1-90)Vector Norm(4) :  vector를 3개 가지고있는 matrix 형태에서 norm구하기 \n",
    "#v1 = [1,2,3,4]    v2= [11,12,13,14]  ... \n",
    "vectors = [[1,11,21],\n",
    "           [2,12,22],\n",
    "           [3,13,23],\n",
    "           [4,14,24]]\n",
    "#norm =[[1**2 + 2**2 + 3**2 + 4**2] , [11*2 + 12**2 + 13**2 + 14**2] , ...] 이렇게 된다고 생각하면 안된다\n",
    "#프로그래밍에선 \n",
    "#norm = [1**2 , 11**2, 21**2] -> [1**2 + 2**2  , 11*2 + 12**2  , 21**2+ 22**2] ... 이렇게 된다고 생각해야한다\n",
    "\n",
    "n_vector = len(vectors[0]) #벡터의 갯수    3개\n",
    "n_dim = len(vectors) #1차원 벡터 안의 원소 갯수    4개\n",
    "\n",
    "v_norms = list() #norm의 갯수는 벡터의 갯수만큼 나온다  3개\n",
    "for _ in range (n_vector):\n",
    "    v_norms.append(0)  \n",
    "\n",
    "#norm구하기\n",
    "for dim_data in vectors:\n",
    "    for dim_idx in range(n_vector): #dim_idx는 3인데 , 3을 만족하는 range안의 값은 n_vector이다\n",
    "        v_norms[dim_idx] += dim_data[dim_idx]**2\n",
    "        #print(v_norms)\n",
    "print(v_norms)\n",
    "\n",
    "for dim_idx in range(n_vector):\n",
    "    v_norms[dim_idx] **= 0.5\n",
    "print(v_norms)"
   ]
  },
  {
   "cell_type": "code",
   "execution_count": 51,
   "id": "6892dce5",
   "metadata": {},
   "outputs": [
    {
     "name": "stdout",
     "output_type": "stream",
     "text": [
      "[[0.18257418583505539, 0.4382504900892777, 0.46609159969939906], [0.36514837167011077, 0.4780914437337575, 0.4882864377803228], [0.5477225575051662, 0.5179323973782373, 0.5104812758612466], [0.7302967433402215, 0.5577733510227171, 0.5326761139421703]]\n",
      "[1.0000000000000002, 1.0000000000000002, 1.0]\n",
      "[1.0, 1.0, 1.0]\n"
     ]
    }
   ],
   "source": [
    "###### Making unit vectors #######\n",
    "# Making unit vectors = vectors의 각원소 에 norm을 나눠주고 , norm을 구해주면 된다\n",
    "for vectors_idx in range(n_dim):\n",
    "    for dim_idx in range(n_vector):\n",
    "       vectors[vectors_idx][dim_idx] = vectors[vectors_idx][dim_idx] / v_norms[dim_idx]\n",
    "print(vectors)\n",
    "\n",
    "v_norms = list() #norm의 갯수는 벡터의 갯수만큼 나온다  3개\n",
    "for _ in range (n_vector):\n",
    "    v_norms.append(0)  \n",
    "\n",
    "#norm구하기\n",
    "for dim_data in vectors:\n",
    "    for dim_idx in range(n_vector): #dim_idx는 3인데 , 3을 만족하는 range안의 값은 n_vector이다\n",
    "        v_norms[dim_idx] += dim_data[dim_idx]**2\n",
    "        #print(v_norms)\n",
    "print(v_norms)\n",
    "\n",
    "for dim_idx in range(n_vector):\n",
    "    v_norms[dim_idx] **= 0.5\n",
    "print(v_norms)"
   ]
  },
  {
   "cell_type": "code",
   "execution_count": 53,
   "id": "b5fdde28",
   "metadata": {},
   "outputs": [
    {
     "name": "stdout",
     "output_type": "stream",
     "text": [
      "130\n"
     ]
    }
   ],
   "source": [
    "#%% 1-92) Dot Product(4)\n",
    "#v1 = [1,2,3,4]   v2= [11,12,13,14] 일때,\n",
    "# Dot Product = 모든 벡터의 곱의 합    =   1*11 + 2*12 + 3*14 + 4*14 =  130\n",
    "# 하마마드 프로덕트 = 각 벡터끼리의 곱 = [1*11 , 2*12 , 3*13, 4*14] \n",
    "vectors = [\n",
    "        [1,11],\n",
    "        [2,12],\n",
    "        [3,13],\n",
    "        [4,14]\n",
    "]\n",
    "n_vector = len(vectors[0])\n",
    "n_dim = len(vectors)\n",
    "\n",
    "dot_prod = 0\n",
    "for dim_data in vectors:\n",
    "    dot_prod += dim_data[0] * dim_data[1]\n",
    "print(dot_prod)"
   ]
  }
 ],
 "metadata": {
  "kernelspec": {
   "display_name": "Python 3 (ipykernel)",
   "language": "python",
   "name": "python3"
  },
  "language_info": {
   "codemirror_mode": {
    "name": "ipython",
    "version": 3
   },
   "file_extension": ".py",
   "mimetype": "text/x-python",
   "name": "python",
   "nbconvert_exporter": "python",
   "pygments_lexer": "ipython3",
   "version": "3.9.7"
  }
 },
 "nbformat": 4,
 "nbformat_minor": 5
}
