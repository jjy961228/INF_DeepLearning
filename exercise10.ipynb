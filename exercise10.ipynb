{
 "cells": [
  {
   "cell_type": "code",
   "execution_count": 3,
   "id": "4d5e16c6",
   "metadata": {},
   "outputs": [
    {
     "name": "stdout",
     "output_type": "stream",
     "text": [
      "numbers:  [0, 1, 2, 3, 4, 5, 6, 7, 8, 9, 10, 11, 12, 13, 14, 15, 16, 17, 18, 19, 20, 21, 22, 23, 24, 25, 26, 27, 28, 29, 30, 31, 32, 33, 34, 35, 36, 37, 38, 39, 40, 41, 42, 43, 44, 45, 46, 47, 48, 49, 50, 51, 52, 53, 54, 55, 56, 57, 58, 59, 60, 61, 62, 63, 64, 65, 66, 67, 68, 69, 70, 71, 72, 73, 74, 75, 76, 77, 78, 79, 80, 81, 82, 83, 84, 85, 86, 87, 88, 89, 90, 91, 92, 93, 94, 95, 96, 97, 98, 99]\n",
      "n의 배수의 합 : 1683\n"
     ]
    }
   ],
   "source": [
    "#%% 1-71) 1~100까지 n배수들의 합 구하기\n",
    "multiple_of_n = 3 #3의 배수 합 구할거다~ \n",
    "\n",
    "numbers = list()\n",
    "for num in range(100):\n",
    "    numbers.append(num)\n",
    "print(\"numbers: \", numbers)\n",
    "\n",
    "sum_multiple_of_n = 0\n",
    "for num2 in numbers:\n",
    "    if num2 % multiple_of_n == 0 :\n",
    "        sum_multiple_of_n += num2\n",
    "print(\"n의 배수의 합 :\", sum_multiple_of_n)"
   ]
  },
  {
   "cell_type": "code",
   "execution_count": 4,
   "id": "1377faf1",
   "metadata": {},
   "outputs": [
    {
     "name": "stdout",
     "output_type": "stream",
     "text": [
      "max_value: 70 / mean_value: 20\n"
     ]
    }
   ],
   "source": [
    "#%% 1-72) 1~100 사이의 max_value, min_value 구해보기\n",
    "# 한계점 : 최대값과 최소값을 정해놨기때문에 1~100사이의 수가아니면 버그가 난다\n",
    "scores = [60,40,70,20,30]\n",
    "\n",
    "# max_value = 0 으로 가장 작은것부터 시작해서\n",
    "#    score > max_value 이면 max_val = score로 저장하는 방법 \n",
    "max_value = 0\n",
    "min_value = 100\n",
    "\n",
    "for score in scores:\n",
    "    if score > max_value:\n",
    "        max_value = score\n",
    "    if score < min_value:\n",
    "        min_value = score\n",
    "print(\"max_value: {} / mean_value: {}\".format(max_value, min_value))"
   ]
  },
  {
   "cell_type": "code",
   "execution_count": 13,
   "id": "0080c1e9",
   "metadata": {},
   "outputs": [
    {
     "name": "stdout",
     "output_type": "stream",
     "text": [
      "max_val: 1000000 / min_val: 40\n",
      "max_val: 1000000 / min_val: 40\n"
     ]
    }
   ],
   "source": [
    "#%% 1-73) 1-72를 극복할 수 있는 method 1, 2\n",
    "scores = [1000000, 60, 40, 70, 120]\n",
    "\n",
    "#method1.\n",
    "#어차피 for score in scores: 에서 scores의 [0]부터 다 비교하니까 이렇게 써도된다\n",
    "max_value = scores[0]\n",
    "min_value = scores[1]\n",
    "\n",
    "for score in scores:\n",
    "    if score > max_value :\n",
    "        max_value = score\n",
    "    if score < min_value :\n",
    "        min_value = score\n",
    "print(\"max_val: {} / min_val: {}\".format(max_value, min_value))\n",
    "\n",
    "#method2\n",
    "max_value , min_value = None, None\n",
    "for score in scores:\n",
    "    #첫번째 루프에서, max_value = None 만족\n",
    "    #두번째 루프부터는 max_value != None 인데 or로인해서 밑에 문장이 실행된다 \n",
    "    if max_value == None or score > max_value :\n",
    "        max_value = score\n",
    "    if min_value == None or score < min_value:\n",
    "        min_value = score\n",
    "print(\"max_val: {} / min_val: {}\".format(max_value, min_value))"
   ]
  },
  {
   "cell_type": "code",
   "execution_count": 13,
   "id": "56593698",
   "metadata": {},
   "outputs": [
    {
     "name": "stdout",
     "output_type": "stream",
     "text": [
      "max_val: 1000000 / min_val: 40\n",
      "[1.0, 2.000080003200128e-05, 0.0, 3.000120004800192e-05, 8.000320012800512e-05]\n",
      "Normalization 후의 값\n",
      "max_val: 1.0 / min_val: 0.0\n"
     ]
    }
   ],
   "source": [
    "#%% 1-74) Nomalization(정규화) \n",
    "# 정규화를 하게되면 데이터들이 [0~1] 사이의 분포를 갖게된다\n",
    "# [100~200] -> x:= (x - xMin) / (xMax-xMin) -> [0,1]\n",
    "scores = [1000000, 60, 40, 70, 120]\n",
    "\n",
    "#Normalization 하기전의 최댓값, 최솟값 \n",
    "max_value , min_value = None, None\n",
    "for score in scores:\n",
    "    #첫번째 루프에서, max_value = None 만족\n",
    "    #두번째 루프부터는 max_value != None 인데 or로인해서 밑에 문장이 실행된다 \n",
    "    if max_value == None or score > max_value :\n",
    "        max_value = score\n",
    "    if min_value == None or score < min_value :\n",
    "        min_value = score\n",
    "print(\"max_val: {} / min_val: {}\".format(max_value, min_value))\n",
    "\n",
    "#Normalization \n",
    "for score_idx in range(len(scores)):\n",
    "     scores[score_idx] = (scores[score_idx] - min_value) / (max_value - min_value) \n",
    "print(scores)\n",
    "\n",
    "#최댓값, 최솟값 구하기\n",
    "max_value , min_value = None, None\n",
    "for score in scores :\n",
    "    if max_value == None or score > max_value:\n",
    "        max_value = score\n",
    "    if min_value == None or score < min_value:\n",
    "        min_value = score\n",
    "print(\"Normalization 후의 값\")\n",
    "print(\"max_val: {} / min_val: {}\".format(max_value, min_value))"
   ]
  },
  {
   "cell_type": "code",
   "execution_count": 27,
   "id": "92cae281",
   "metadata": {},
   "outputs": [
    {
     "name": "stdout",
     "output_type": "stream",
     "text": [
      "max_value: 120 / max_idx : 3 \n",
      "min_value: -20 / min_idx : 1 \n"
     ]
    }
   ],
   "source": [
    "#%% 1-75 ) 최댓값, 최소값을 구하고, 그 위치까지 구하기\n",
    "scores = [60,-20,40,120,70]\n",
    "\n",
    "max_value , min_value = None, None\n",
    "max_idx,  min_idx = 0 , 0\n",
    "\n",
    "for score_idx in range(len(scores)):\n",
    "    score = scores[score_idx] #얘로인해 for score in scores: d의 역할이 대신된다\n",
    "    if max_value == None or score > max_value:\n",
    "        max_value = score\n",
    "        max_idx = score_idx\n",
    "    if min_value == None or score < min_value:\n",
    "        min_value = score\n",
    "        min_idx = score_idx\n",
    "print(\"max_value: {} / max_idx : {} \".format(max_value,max_idx))\n",
    "print(\"min_value: {} / min_idx : {} \".format(min_value, min_idx))\n",
    "        \n",
    "\n"
   ]
  }
 ],
 "metadata": {
  "kernelspec": {
   "display_name": "Python 3 (ipykernel)",
   "language": "python",
   "name": "python3"
  },
  "language_info": {
   "codemirror_mode": {
    "name": "ipython",
    "version": 3
   },
   "file_extension": ".py",
   "mimetype": "text/x-python",
   "name": "python",
   "nbconvert_exporter": "python",
   "pygments_lexer": "ipython3",
   "version": "3.9.7"
  }
 },
 "nbformat": 4,
 "nbformat_minor": 5
}
