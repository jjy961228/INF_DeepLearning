{
 "cells": [
  {
   "cell_type": "code",
   "execution_count": 10,
   "id": "2a4bf797",
   "metadata": {},
   "outputs": [
    {
     "name": "stdout",
     "output_type": "stream",
     "text": [
      "Euclidean Distance for v1 and v2(v1과v2사이의 Euclidean_Distance) =  51.96152422706632\n"
     ]
    }
   ],
   "source": [
    "#%% 1-93) Euclidean Distance\n",
    "vectors = [[1,11],\n",
    "          [2,12],\n",
    "          [3,33],\n",
    "          [4,44]]\n",
    "e_distance = 0\n",
    "for dim_data in vectors:\n",
    "    diff = dim_data[0] - dim_data[1]\n",
    "    diff_square = diff**2\n",
    "    \n",
    "    e_distance += diff_square\n",
    "e_distance **= 0.5\n",
    "print(\"Euclidean Distance for v1 and v2(v1과v2사이의 Euclidean_Distance) = \", e_distance)\n",
    "    "
   ]
  },
  {
   "cell_type": "code",
   "execution_count": 39,
   "id": "3691ce43",
   "metadata": {},
   "outputs": [
    {
     "name": "stdout",
     "output_type": "stream",
     "text": [
      "[0, 0, 0]\n",
      "[0, 0, 0]\n",
      "[10, 40, 20]\n",
      "10\n",
      "40\n",
      "20\n",
      "[50, 20, 60]\n",
      "50\n",
      "20\n",
      "60\n",
      "[70, 40, 30]\n",
      "70\n",
      "40\n",
      "30\n",
      "[30, 80, 40]\n",
      "30\n",
      "80\n",
      "40\n",
      "Max_scores:  [70, 80, 60]\n",
      "Max score indices:  [2, 3, 1]\n"
     ]
    }
   ],
   "source": [
    "#%% 1-94) 과목별 최고점, 최우수 학생 구하기\n",
    "# 출력값을 Max_scores:  [70, 80, 60] \n",
    "#          Max score indeices:  [2, 3, 1] 이렇게 할거다 \n",
    "#                              국어의 짱은 2번째학생, 수학의 짱은 3번째학생  ,,,, \n",
    "\n",
    "\n",
    "#        국어,수학,영어\n",
    "scores = [[10,40,20], #1번째 학생\n",
    "          [50,20,60],  #2번째 학생\n",
    "          [70,40,30],\n",
    "          [30,80,40]]\n",
    "n_student = len(scores)\n",
    "n_classes = len(scores[0])\n",
    "\n",
    "M_classes = list() #과목 당 최고점수\n",
    "M_classes_idx = list() #과목 당 최고점수의 인덱스 값\n",
    "\n",
    "for _ in range(n_classes):\n",
    "    M_classes.append(0)\n",
    "    M_classes_idx.append(0)\n",
    "print(M_classes)\n",
    "print(M_classes_idx)\n",
    "\n",
    "for student_idx in range(n_student):\n",
    "    student_scores = scores[student_idx] #[10,40,20]\n",
    "    print(student_scores)\n",
    "    \n",
    "    for classes_idx in range(n_classes):\n",
    "        score = student_scores[classes_idx] # 10 , 40, 20\n",
    "        print(score)\n",
    "        if score > M_classes[classes_idx]: # 최댓값으로 업데이트\n",
    "            M_classes[classes_idx] = score \n",
    "            M_classes_idx[classes_idx] = student_idx\n",
    "print(\"Max_scores: \", M_classes)\n",
    "print(\"Max score indices: \", M_classes_idx)\n"
   ]
  },
  {
   "cell_type": "code",
   "execution_count": 54,
   "id": "b72584bd",
   "metadata": {},
   "outputs": [
    {
     "name": "stdout",
     "output_type": "stream",
     "text": [
      "4\n",
      "one_hot_matrix =  [[1, 0, 0, 0, 0, 0], [0, 1, 0, 0, 0, 0], [0, 0, 1, 0, 0, 0], [0, 1, 0, 0, 0, 0], [1, 0, 0, 0, 0, 0], [0, 0, 0, 1, 0, 0]]\n",
      "[1, 0, 0, 0, 0, 0]\n",
      "[0, 1, 0, 0, 0, 0]\n",
      "[0, 0, 1, 0, 0, 0]\n",
      "[0, 1, 0, 0, 0, 0]\n",
      "[1, 0, 0, 0, 0, 0]\n",
      "[0, 0, 0, 1, 0, 0]\n"
     ]
    }
   ],
   "source": [
    "#%% One-hot Encoding\n",
    "# 강아지 고양이 토끼 호랑이 \n",
    "#  0 ,    1,     2,      3  으로 표현  \n",
    "# [1,0,0,0] [0,1,0,0] [0,0,1,0] [0,0,0,1] 로 자기위치만 1로 만드는것을  one-hot Encoding 아라고한다\n",
    "\n",
    "labels = [0,1,2,1,0,3] #one-hot vector[label의 각 원소] = 1을 해줘야한다   \n",
    "\n",
    "n_labels = len(labels) #vector의 길이가 one-hot vector의 갯수가 된다 \n",
    "n_class = 0 # 클래스의 최댓값(원소의 최댓값) + 1  =   클래스의 갯수(원소의 갯수)  가 된다\n",
    "            # 인덱스로 접근하니까 +1을 해줘야한다\n",
    "\n",
    "#원소의 최댓값 구하기 : 원소의 최댓값이 결국 one-hot vector의 원소갯수가 된다\n",
    "for label in labels :\n",
    "    if label > n_class:\n",
    "        n_class = label\n",
    "n_class += 1\n",
    "print(n_class)\n",
    "\n",
    "#one-hot vector , one-hot matrix 만들기\n",
    "one_hot_matrix = list()\n",
    "for label in labels: #one-hot vector[label의 각 원소] = 1 \n",
    "    one_hot_vector = list()\n",
    "    for _ in range(n_labels): #ne-hot vector는 6개 만들어야한다\n",
    "        one_hot_vector.append(0)\n",
    "        #print(one_hot_vector)\n",
    "    one_hot_vector[label] = 1\n",
    "    #print(one_hot_vector)\n",
    "    one_hot_matrix.append(one_hot_vector)\n",
    "print(\"one_hot_matrix = \", one_hot_matrix)\n",
    "\n",
    "for data in one_hot_matrix:\n",
    "    print(data)"
   ]
  },
  {
   "cell_type": "code",
   "execution_count": 5,
   "id": "0dff2d5a",
   "metadata": {},
   "outputs": [
    {
     "name": "stdout",
     "output_type": "stream",
     "text": [
      "4\n",
      "[[1, 0, 0, 0], [0, 1, 0, 0], [0, 0, 1, 0], [0, 1, 0, 0], [1, 0, 0, 0], [0, 0, 0, 1]]\n"
     ]
    }
   ],
   "source": [
    "#%% 1-96 : one-hot Encoding에서 Accuracy구하기 \n",
    "preds = [[1,0,0,0],\n",
    "       [0,0,1,0],\n",
    "       [0,0,1,0],\n",
    "       [1,0,0,0],\n",
    "       [1,0,0,0],\n",
    "       [0,0,0,1]]\n",
    "labels = [0,1,2,1,0,3]\n",
    "\n",
    "n_pred = len(preds) #vector의 갯수\n",
    "n_class = 0  #onehot_vector의 원소의 갯수 = labels안의 최댓값 +1\n",
    "\n",
    "#1) labels의 class(원소)의 최댓값 구하기\n",
    "for label in labels :\n",
    "    if label > n_class:\n",
    "        n_class = label\n",
    "n_class += 1\n",
    "print(n_class)\n",
    "\n",
    "#2) label의  one_hot_vecrtor , one_hot_matirx 만들기\n",
    "#labels를 one_hot encoding형식으로 바꿔주기\n",
    "# why? pred와 비교해 Accuracy구하기 위해\n",
    "one_hot_matrix = list()\n",
    "for label in labels:\n",
    "    one_hot_vector = list()\n",
    "    for class_idx in range(n_class):\n",
    "        one_hot_vector.append(0)\n",
    "    #print(one_hot_vector) one_hot_vector의 형식을 만들었다\n",
    "    one_hot_vector[label] = 1\n",
    "    one_hot_matrix.append(one_hot_vector)\n",
    "print(one_hot_matrix)"
   ]
  },
  {
   "cell_type": "code",
   "execution_count": 7,
   "id": "5c3b62c8",
   "metadata": {},
   "outputs": [
    {
     "name": "stdout",
     "output_type": "stream",
     "text": [
      "preds: \n",
      "[[1, 0, 0, 0], [0, 0, 1, 0], [0, 0, 1, 0], [1, 0, 0, 0], [1, 0, 0, 0], [0, 0, 0, 1]]\n",
      "one_hot_matrix: \n",
      "[[1, 0, 0, 0], [0, 1, 0, 0], [0, 0, 1, 0], [0, 1, 0, 0], [1, 0, 0, 0], [0, 0, 0, 1]]\n",
      "pred의 백터 갯수:  6\n",
      "pred의 원소 갯수:  4\n",
      "pred:  [1, 0, 0, 0]\n",
      "label:  [1, 0, 0, 0]\n",
      "맞은갯수:  4\n",
      "pred:  [0, 0, 1, 0]\n",
      "label:  [0, 1, 0, 0]\n",
      "맞은갯수:  2\n",
      "pred:  [0, 0, 1, 0]\n",
      "label:  [0, 0, 1, 0]\n",
      "맞은갯수:  4\n",
      "pred:  [1, 0, 0, 0]\n",
      "label:  [0, 1, 0, 0]\n",
      "맞은갯수:  2\n",
      "pred:  [1, 0, 0, 0]\n",
      "label:  [1, 0, 0, 0]\n",
      "맞은갯수:  4\n",
      "pred:  [0, 0, 0, 1]\n",
      "label:  [0, 0, 0, 1]\n",
      "맞은갯수:  4\n",
      "전체 중 맞은갯수:  4\n",
      "최종 accuracy =  0.6666666666666666\n"
     ]
    }
   ],
   "source": [
    "#############pred와 one_hot_matrx비교해 Accuracy 구하기############\n",
    "print(\"preds: \")\n",
    "print(preds)\n",
    "print(\"one_hot_matrix: \")\n",
    "print(one_hot_matrix)\n",
    "\n",
    "#idea) 클래스별로 비교해서 맞다면 conut +1\n",
    "#     즉, conut가 4가되면 Acurracy +1 하면 된다\n",
    "print(\"pred의 백터 갯수: \", n_pred)\n",
    "print(\"pred의 원소 갯수: \", n_class)\n",
    "\n",
    "#3)Accuracy구하기\n",
    "accuracy = 0\n",
    "for pred_idx in range(n_pred):\n",
    "    pred = preds[pred_idx] #preds에서 각각의 pred값\n",
    "    label = one_hot_matrix[pred_idx] #one_hot_matrix에서 각각의 값(label)\n",
    "    print(\"pred: \" , pred)\n",
    "    print(\"label: \", label)\n",
    "    \n",
    "    correct_cnt = 0\n",
    "    for class_idx in range(n_class):\n",
    "        if pred[class_idx] == label[class_idx]:\n",
    "            correct_cnt += 1\n",
    "    print(\"맞은갯수: \", correct_cnt)\n",
    "  \n",
    "    if correct_cnt == n_class : # 즉 correct_cnt == 4 만큼 될때 \n",
    "        accuracy += 1\n",
    "\n",
    "print(\"전체 중 맞은갯수: \", accuracy)\n",
    "\n",
    "accuracy /= n_pred\n",
    "print(\"최종 accuracy = \", accuracy)            "
   ]
  }
 ],
 "metadata": {
  "kernelspec": {
   "display_name": "Python 3 (ipykernel)",
   "language": "python",
   "name": "python3"
  },
  "language_info": {
   "codemirror_mode": {
    "name": "ipython",
    "version": 3
   },
   "file_extension": ".py",
   "mimetype": "text/x-python",
   "name": "python",
   "nbconvert_exporter": "python",
   "pygments_lexer": "ipython3",
   "version": "3.9.7"
  }
 },
 "nbformat": 4,
 "nbformat_minor": 5
}
