{
 "cells": [
  {
   "cell_type": "code",
   "execution_count": 22,
   "id": "2021931e",
   "metadata": {},
   "outputs": [
    {
     "name": "stdout",
     "output_type": "stream",
     "text": [
      "1000000 40\n",
      "1.0 0.0 0 2\n"
     ]
    }
   ],
   "source": [
    "# Normalization \n",
    "#x:= (x-min) / (max-min)     -> [0,1]\n",
    "scores = [1000000, 60, 40, 70, 120]\n",
    "\n",
    "max_val = None\n",
    "min_val = None\n",
    "\n",
    "for score in scores :\n",
    "    if max_val == None or score > max_val :\n",
    "        max_val = score \n",
    "    if min_val == None or score < min_val :\n",
    "        min_val = score\n",
    "print(max_val, min_val)\n",
    "\n",
    "#Normalizaiotn \n",
    "for score_idx in range(len(scores)):\n",
    "    scores[score_idx] = (scores[score_idx] - min_val) / (max_val - min_val)\n",
    "\n",
    "max_val = None\n",
    "min_val = None\n",
    "\n",
    "max_idx = 0\n",
    "min_idx = 0\n",
    "\n",
    "for score_idx in range(len(scores)):\n",
    "    score = scores[score_idx]\n",
    "    if max_val == None or score > max_val :\n",
    "        max_val = score\n",
    "        max_idx = score_idx\n",
    "    if min_val == None or score < min_val :\n",
    "        min_val = score\n",
    "        min_idx = score_idx\n",
    "print(max_val, min_val, max_idx , min_idx)\n",
    "\n",
    "\n",
    "\n",
    "\n",
    "    \n",
    "    "
   ]
  }
 ],
 "metadata": {
  "kernelspec": {
   "display_name": "Python 3 (ipykernel)",
   "language": "python",
   "name": "python3"
  },
  "language_info": {
   "codemirror_mode": {
    "name": "ipython",
    "version": 3
   },
   "file_extension": ".py",
   "mimetype": "text/x-python",
   "name": "python",
   "nbconvert_exporter": "python",
   "pygments_lexer": "ipython3",
   "version": "3.9.7"
  }
 },
 "nbformat": 4,
 "nbformat_minor": 5
}
