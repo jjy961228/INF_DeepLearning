{
 "cells": [
  {
   "cell_type": "code",
   "execution_count": 23,
   "id": "5adb2a10",
   "metadata": {},
   "outputs": [
    {
     "name": "stdout",
     "output_type": "stream",
     "text": [
      "scores:  [40, 20, 30, 10, 50]\n",
      "50\n",
      "sorted_scores :  [50]\n",
      "scores(temp_scores):  [40, 20, 30, 10]\n",
      "=====================\n",
      "40\n",
      "sorted_scores :  [50, 40]\n",
      "scores(temp_scores):  [20, 30, 10]\n",
      "=====================\n",
      "30\n",
      "sorted_scores :  [50, 40, 30]\n",
      "scores(temp_scores):  [20, 10]\n",
      "=====================\n",
      "20\n",
      "sorted_scores :  [50, 40, 30, 20]\n",
      "scores(temp_scores):  [10]\n",
      "=====================\n",
      "10\n",
      "sorted_scores :  [50, 40, 30, 20, 10]\n",
      "scores(temp_scores):  []\n",
      "=====================\n"
     ]
    }
   ],
   "source": [
    "#%% 1-76) Sorting\n",
    "#sorted_scores : 정렬된 데이터 담을공간\n",
    "#temp_scores : 아직 정렬되지 않은 데이터 담을공간\n",
    "scores = [40,20,30,10,50]\n",
    "print(\"scores: \" , scores)\n",
    "#정렬된 데이터를 담을 공간 -> 큰수~작은수로 내림차순 정렬될공간 선언\n",
    "sorted_scores = list() \n",
    "\n",
    "for _ in range(len(scores)) :\n",
    "    #max_val -> sorted_scores 에 들어간다\n",
    "    max_value , max_idx = scores[0], 0 \n",
    "    for score_idx in range(len(scores)):\n",
    "         if scores[score_idx] > max_value :\n",
    "                max_value =  scores[score_idx]\n",
    "                max_idx = score_idx\n",
    "    print(max_value) #max_value = 50일때 한번 찾고, 찾으면 50을 sorted_scores에 넣고 , 50을 제외시킨다\n",
    "                    # 즉, 제외시키는게 다시 50을빼고 temp_scores 에 담는거다\n",
    "                    # 이렇게 5번 반복한다\n",
    "    \n",
    "   \n",
    "    temp_scores = list()  #임시저장공간 \n",
    "    for score_idx in range(len(scores)):\n",
    "        if max_idx == score_idx: #즉, 최댓값일때의 idx이면\n",
    "            sorted_scores.append(scores[score_idx])\n",
    "        else: \n",
    "            temp_scores.append(scores[score_idx])\n",
    "    scores = temp_scores\n",
    "\n",
    "    print(\"sorted_scores : \" , sorted_scores )\n",
    "    print(\"scores(temp_scores): \" ,  scores)\n",
    "    print(\"=====================\")\n",
    "\n",
    "    \n",
    "    "
   ]
  }
 ],
 "metadata": {
  "kernelspec": {
   "display_name": "Python 3 (ipykernel)",
   "language": "python",
   "name": "python3"
  },
  "language_info": {
   "codemirror_mode": {
    "name": "ipython",
    "version": 3
   },
   "file_extension": ".py",
   "mimetype": "text/x-python",
   "name": "python",
   "nbconvert_exporter": "python",
   "pygments_lexer": "ipython3",
   "version": "3.9.7"
  }
 },
 "nbformat": 4,
 "nbformat_minor": 5
}
