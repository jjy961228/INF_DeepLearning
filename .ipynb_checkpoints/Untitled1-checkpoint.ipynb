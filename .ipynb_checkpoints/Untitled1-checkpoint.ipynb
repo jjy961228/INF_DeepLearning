{
 "cells": [
  {
   "cell_type": "code",
   "execution_count": 3,
   "id": "9f80b1eb",
   "metadata": {},
   "outputs": [
    {
     "name": "stdout",
     "output_type": "stream",
     "text": [
      "Accuracy(%) 45.45454545454545 %\n"
     ]
    }
   ],
   "source": [
    "#%% 1-77) Accuracy: 정확도\n",
    "# 실제값 10개중 맞춘갯수 5개 -> Accuracy = 0.5\n",
    "prediction = [1,2,3,4,0,3,4,8,2,9,10]\n",
    "labels = [1,3,4,2,1,3,5,4,2,9,10]\n",
    "n_correct = 0 #맞춘갯수\n",
    "\n",
    "for pred_idx in range(len(prediction)):\n",
    "    if prediction[pred_idx] == labels[pred_idx]:\n",
    "        n_correct += 1\n",
    "accuracy = n_correct / len(prediction)\n",
    "print(\"Accuracy(%)\", accuracy * 100 , \"%\")\n"
   ]
  },
  {
   "cell_type": "code",
   "execution_count": 24,
   "id": "d2bab4d1",
   "metadata": {},
   "outputs": [
    {
     "name": "stdout",
     "output_type": "stream",
     "text": [
      "11\n",
      "[0, 0, 0, 0, 0, 0, 0, 0, 0, 0, 0] [0, 0, 0, 0, 0, 0, 0, 0, 0, 0, 0] [None, None, None, None, None, None, None, None, None, None, None]\n"
     ]
    },
    {
     "ename": "ZeroDivisionError",
     "evalue": "division by zero",
     "output_type": "error",
     "traceback": [
      "\u001b[1;31m---------------------------------------------------------------------------\u001b[0m",
      "\u001b[1;31mZeroDivisionError\u001b[0m                         Traceback (most recent call last)",
      "\u001b[1;32m~\\AppData\\Local\\Temp/ipykernel_17400/1121877027.py\u001b[0m in \u001b[0;36m<module>\u001b[1;34m\u001b[0m\n\u001b[0;32m     41\u001b[0m \u001b[1;33m\u001b[0m\u001b[0m\n\u001b[0;32m     42\u001b[0m \u001b[1;32mfor\u001b[0m \u001b[0mclass_idx\u001b[0m \u001b[1;32min\u001b[0m \u001b[0mrange\u001b[0m\u001b[1;33m(\u001b[0m\u001b[0mmax_class\u001b[0m\u001b[1;33m)\u001b[0m\u001b[1;33m:\u001b[0m\u001b[1;33m\u001b[0m\u001b[1;33m\u001b[0m\u001b[0m\n\u001b[1;32m---> 43\u001b[1;33m     \u001b[0mcufusion_vec\u001b[0m\u001b[1;33m[\u001b[0m\u001b[0mclass_idx\u001b[0m\u001b[1;33m]\u001b[0m \u001b[1;33m=\u001b[0m \u001b[0mcorrect_cnts\u001b[0m\u001b[1;33m[\u001b[0m\u001b[0mclass_idx\u001b[0m\u001b[1;33m]\u001b[0m \u001b[1;33m/\u001b[0m \u001b[0mclass_cnts\u001b[0m\u001b[1;33m[\u001b[0m\u001b[0mclass_idx\u001b[0m\u001b[1;33m]\u001b[0m\u001b[1;33m\u001b[0m\u001b[1;33m\u001b[0m\u001b[0m\n\u001b[0m\u001b[0;32m     44\u001b[0m \u001b[1;33m\u001b[0m\u001b[0m\n\u001b[0;32m     45\u001b[0m \u001b[1;33m\u001b[0m\u001b[0m\n",
      "\u001b[1;31mZeroDivisionError\u001b[0m: division by zero"
     ]
    }
   ],
   "source": [
    "#%% 1-78) Confusion Vector \n",
    "# [0 class,1 class,2 class ........ N class] 로 구분해야한다\n",
    "# -> 각각의 0이 몇개인지 , 1이 몇개인지  ..... N 이 몇개인지 알아야한다\n",
    "# -> 최댓값을 구해야한다 결국 , N class 를 알려면 최댓값을 알아야한다\n",
    "# -> 0 class의 확률 = 0맞춘갯수/ 0개의 갯수\n",
    "#    1 class의 확률 = 1맞춘갯수/ 1개의 갯수\n",
    "#    N class의 확률 = N맞춘갯수 / N개의 갯수\n",
    "predictions = [1,2,3,4,0,3,4,8,2,9,10]\n",
    "labels = [1,3,4,2,1,3,5,4,2,9,10]\n",
    "n_data = len(predictions)\n",
    "\n",
    "class_cnts = list() # 0class, 1class, 2class 각각 클래스의 0의총갯수,1의총갯수,2의총갯수\n",
    "correct_cnts = list() # 각가 맞춘갯수\n",
    "cufusion_vec = list() # correct_cnts / class_cnts\n",
    "\n",
    "#최댓값 구하기    즉, class의 갯수 구하기\n",
    "max_class = None\n",
    "for label in labels :\n",
    "    if max_class == None or label > max_class:\n",
    "        max_class = label\n",
    "max_class += 1 #최댓값이 10 일때 for문을 돌리면 , 인덱스니까 9번째 까지밖에 못구한다. \n",
    "                # 따라서, +1 해줘야한다\n",
    "print(max_class)\n",
    "\n",
    "#공간할당\n",
    "for _ in range (max_class):\n",
    "    class_cnts.append(0)\n",
    "    correct_cnts.append(0)\n",
    "    cufusion_vec.append(None)\n",
    "print(class_cnts, correct_cnts,cufusion_vec)\n",
    "\n",
    "#pred 와 labels 비교 ,\n",
    "for pred_idx in range(n_data):\n",
    "    pred = predictions[pred_idx]\n",
    "    label = labels[pred_idx]\n",
    "    \n",
    "    class_cnts[label] += 1\n",
    "    \n",
    "    if pred == label :\n",
    "        correct_cnts[label] += 1\n",
    "\n",
    "for class_idx in range(max_class):\n",
    "    cufusion_vec[class_idx] = correct_cnts[class_idx] / class_cnts[class_idx]\n",
    "\n",
    "\n",
    "\n",
    "\n",
    "\n",
    "\n",
    "\n",
    "\n",
    "\n",
    "\n",
    "\n"
   ]
  }
 ],
 "metadata": {
  "kernelspec": {
   "display_name": "Python 3 (ipykernel)",
   "language": "python",
   "name": "python3"
  },
  "language_info": {
   "codemirror_mode": {
    "name": "ipython",
    "version": 3
   },
   "file_extension": ".py",
   "mimetype": "text/x-python",
   "name": "python",
   "nbconvert_exporter": "python",
   "pygments_lexer": "ipython3",
   "version": "3.9.7"
  }
 },
 "nbformat": 4,
 "nbformat_minor": 5
}
