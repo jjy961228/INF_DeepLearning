{
 "cells": [
  {
   "cell_type": "code",
   "execution_count": 29,
   "id": "951eb3a5",
   "metadata": {
    "scrolled": true
   },
   "outputs": [
    {
     "name": "stdout",
     "output_type": "stream",
     "text": [
      "mean of classes scores:  [100, 120, 140]\n",
      "mean of classes score:  [25.0, 30.0, 35.0]\n",
      "mean subtraction of score [[-15.0, -15.0, -15.0], [-5.0, -5.0, -5.0], [5.0, 5.0, 5.0], [15.0, 15.0, 15.0]]\n",
      "[0.0, 0.0, 0.0]\n",
      "[0.0, 0.0, 0.0]\n"
     ]
    }
   ],
   "source": [
    "#%% Mean Subtraction(5) : Mean subtraction 한 후의 \n",
    "scores = [[10,15,20], [20,25,30], [30,35,40], [40,45,50]]\n",
    "\n",
    "n_student = len(scores)\n",
    "n_class = len(scores[0])\n",
    "\n",
    "'''get classes mean'''\n",
    "class_score_sums = list()\n",
    "class_score_means = list()\n",
    "\n",
    "#1 0으로 리스트 추가해놓기\n",
    "for _ in range (n_class):\n",
    "    class_score_sums.append(0)\n",
    "#2 \n",
    "for student_score in scores:\n",
    "    for class_idx in range(n_class):\n",
    "        class_score_sums[class_idx] += student_score[class_idx]\n",
    "print(\"mean of classes scores: \" , class_score_sums)\n",
    "\n",
    "#3\n",
    "# #3\n",
    "# for class_sums in class_score_sums :\n",
    "#     mean = (class_sums / n_student)\n",
    "#     class_score_means.append(mean)\n",
    "#     print(\"mean of clases scores: \", class_score_means)\n",
    "\n",
    "for class_idx in range (n_class):\n",
    "    mean = class_score_sums[class_idx] / n_student\n",
    "    class_score_means.append(mean)\n",
    "print(\"mean of classes score: \", class_score_means)\n",
    "\n",
    "'''Mean Subtraction'''\n",
    "for student_idx in range(n_student):\n",
    "    for class_idx in range (n_class):\n",
    "        scores[student_idx][class_idx] -= class_score_means[class_idx]\n",
    "print(\"mean subtraction of score\" , scores)\n",
    "\n",
    "\n",
    "'''get classes mean'''\n",
    "class_score_sums = list()\n",
    "class_score_means = list()\n",
    "for _ in range (n_class):\n",
    "    class_score_sums. append(0)\n",
    "\n",
    "for student_score in scores:\n",
    "    for class_idx in range(n_class):\n",
    "        class_score_sums[class_idx] += student_score[class_idx]\n",
    "print(class_score_sums)\n",
    "\n",
    "for class_idx in range(n_class):\n",
    "    class_score_means.append(class_score_sums[class_idx] / n_student)\n",
    "print(class_score_means)"
   ]
  },
  {
   "cell_type": "code",
   "execution_count": 55,
   "id": "6bf3a847",
   "metadata": {},
   "outputs": [
    {
     "data": {
      "text/plain": [
       "'\\n#1-87에서 평균, 분산, 표준편차를 구하고\\n#1-88에서 표준화기켜준걸    다시, scores[student_idx][class_idx] - (표준화시켜준거)  해주고\\n#다시  평균, 분산, 표준편차를 구하고 를 구하면  `   평균:0 , 분산: 1이된다\\n'"
      ]
     },
     "execution_count": 55,
     "metadata": {},
     "output_type": "execute_result"
    }
   ],
   "source": [
    "'''\n",
    "#1-87에서 평균, 분산, 표준편차를 구하고\n",
    "#1-88에서 (x-mean) / std 구한걸 ,     다시 scores[student_idx][class_idx] <-  (x-mean) / std  대입\n",
    "#다시  평균, 분산, 표준편차를 구하고 를 구하면  `   평균:0 , 분산: 1이된다\n",
    "'''"
   ]
  },
  {
   "cell_type": "code",
   "execution_count": 52,
   "id": "6abd4a4b",
   "metadata": {},
   "outputs": [
    {
     "name": "stdout",
     "output_type": "stream",
     "text": [
      "[0, 0, 0] [0, 0, 0]\n",
      "[3000, 4100, 5400] [100, 120, 140]\n",
      "[25.0, 30.0, 35.0]\n",
      "[125.0, 125.0, 125.0] [11.180339887498949, 11.180339887498949, 11.180339887498949]\n"
     ]
    }
   ],
   "source": [
    "#%% 1-87) 2차원 데이터의 variance , standard diviation\n",
    "#과목별 분산,표준편차 구하기\n",
    "scores = [[10,15,20], [20,25,30], [30,35,40], [40,45,50]]\n",
    "#idea) 항상 row 단위로 계산하고 , append 하는것을 기억하자\n",
    "#E(X**2) = {(10**2 , 15**2 , 20**2) + (20**2 , 25**2, 30**2) + .....} / n_student\n",
    "#(E(X))**2 = {(10, 15, 20) + (20 , 25, 30) +......}**2 / n_stduent  \n",
    "\n",
    "n_student = len(scores)\n",
    "n_class = len(scores[0])\n",
    "\n",
    "#[0,0,0]  : [국E(X**2), 영(E(X**2)), 수(E(X**2))]  -\n",
    "#[0,0,0]  : [국(E(X))**2, 영, 수]\n",
    "class_score_square_sums = list()\n",
    "class_score_sums = list()\n",
    "class_score_means = list()\n",
    "\n",
    "\n",
    "\n",
    "variances = list()\n",
    "stds = list()\n",
    "\n",
    "#1 초기화\n",
    "for _ in range(n_class):\n",
    "    class_score_square_sums.append(0)\n",
    "    class_score_sums.append(0) \n",
    "print(class_score_square_sums , class_score_sums )\n",
    "\n",
    "#2 과목당 제곱의 합 , 과목당 합의 제곱 \n",
    "for student_scores in scores:\n",
    "    for class_idx in range(n_class):\n",
    "        class_score_square_sums[class_idx] += student_scores[class_idx]**2\n",
    "        class_score_sums[class_idx] += student_scores[class_idx]\n",
    "print(class_score_square_sums , class_score_sums)\n",
    "\n",
    "# 과목당 평균 \n",
    "for class_idx in range(n_class):\n",
    "    mean = class_score_sums[class_idx] / n_student\n",
    "    class_score_means.append(mean)\n",
    "print(class_score_means)\n",
    "\n",
    "#과목당 분산, 과목당 표준편차 구하기\n",
    "for class_idx in range(n_class):\n",
    "    mean_of_square = class_score_square_sums[class_idx] / n_student\n",
    "    square_of_mean = (class_score_sums[class_idx] / n_student)**2\n",
    "    \n",
    "    variances.append(mean_of_square - square_of_mean)\n",
    "    stds.append(variances[class_idx]**0.5)\n",
    "print(variances , stds)"
   ]
  },
  {
   "cell_type": "code",
   "execution_count": 64,
   "id": "6f621421",
   "metadata": {},
   "outputs": [
    {
     "name": "stdout",
     "output_type": "stream",
     "text": [
      "score <- (score-mean) / std = \n",
      " [[-1.3416407864998738, -1.3416407864998738, -1.3416407864998738], [-0.4472135954999579, -0.4472135954999579, -0.4472135954999579], [0.4472135954999579, 0.4472135954999579, 0.4472135954999579], [1.3416407864998738, 1.3416407864998738, 1.3416407864998738]]\n"
     ]
    }
   ],
   "source": [
    "# 1-88)Standardization: (x-mean) / std\n",
    "for student_idx in range(n_student):\n",
    "    for class_idx in range(n_class):\n",
    "        # print(student_idx , class_idx)\n",
    "        score = scores[student_idx][class_idx]\n",
    "        mean = class_score_means[class_idx]\n",
    "        std = stds[class_idx]\n",
    "        \n",
    "        scores[student_idx][class_idx] = (score-mean) / std\n",
    "print(\"score <- (score-mean) / std = \\n\" , scores)"
   ]
  },
  {
   "cell_type": "code",
   "execution_count": 67,
   "id": "9ca6cf7e",
   "metadata": {},
   "outputs": [
    {
     "name": "stdout",
     "output_type": "stream",
     "text": [
      "[0, 0, 0] [0, 0, 0]\n",
      "[4.0, 4.0, 4.0] [0.0, 0.0, 0.0]\n",
      "[0.0, 0.0, 0.0]\n",
      "표준화된 평균 :  [0.0, 0.0, 0.0]\n",
      " 표준화된 분산: [1.0, 1.0, 1.0] / 표준화된 표준편차 : [1.0, 1.0, 1.0]\n"
     ]
    }
   ],
   "source": [
    "# 1-89)\n",
    "class_score_square_sums = list()\n",
    "class_score_sums = list()\n",
    "class_score_means = list()\n",
    "\n",
    "variances = list()\n",
    "stds = list()\n",
    "\n",
    "#1 초기화\n",
    "for _ in range(n_class):\n",
    "    class_score_square_sums.append(0)\n",
    "    class_score_sums.append(0) \n",
    "print(class_score_square_sums , class_score_sums )\n",
    "\n",
    "#2 과목당 제곱의 합 , 과목당 합의 제곱 \n",
    "for student_scores in scores:\n",
    "    for class_idx in range(n_class):\n",
    "        class_score_square_sums[class_idx] += student_scores[class_idx]**2\n",
    "        class_score_sums[class_idx] += student_scores[class_idx]\n",
    "print(class_score_square_sums , class_score_sums)\n",
    "\n",
    "# 과목당 평균 \n",
    "for class_idx in range(n_class):\n",
    "    mean = class_score_sums[class_idx] / n_student\n",
    "    class_score_means.append(mean)\n",
    "print(class_score_means)\n",
    "print(\"표준화된 평균 : \", class_score_means)\n",
    "\n",
    "#과목당 분산, 과목당 표준편차 구하기\n",
    "for class_idx in range(n_class):\n",
    "    mean_of_square = class_score_square_sums[class_idx] / n_student\n",
    "    square_of_mean = (class_score_sums[class_idx] / n_student)**2\n",
    "    \n",
    "    variances.append(mean_of_square - square_of_mean)\n",
    "    stds.append(variances[class_idx]**0.5)\n",
    "print(\" 표준화된 분산: {} / 표준화된 표준편차 : {}\".format(variances , stds))"
   ]
  }
 ],
 "metadata": {
  "kernelspec": {
   "display_name": "Python 3 (ipykernel)",
   "language": "python",
   "name": "python3"
  },
  "language_info": {
   "codemirror_mode": {
    "name": "ipython",
    "version": 3
   },
   "file_extension": ".py",
   "mimetype": "text/x-python",
   "name": "python",
   "nbconvert_exporter": "python",
   "pygments_lexer": "ipython3",
   "version": "3.9.7"
  }
 },
 "nbformat": 4,
 "nbformat_minor": 5
}
