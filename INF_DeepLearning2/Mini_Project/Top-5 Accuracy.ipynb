{
 "cells": [
  {
   "cell_type": "markdown",
   "id": "2e912fc1",
   "metadata": {},
   "source": [
    "# Exercise Goupr.7: (Mini-project) Top-5 Accuracy\n",
    "## Exercise.2 - 25: Top-5 Accuracy\n",
    "Classification task에서 정확한 label을 예측하지 못했더라도, <br>\n",
    "유의미한 예측일 때 측정하는 top-5 accuracy를 구해보자<br>\n",
    "<font size=\"2em\" color=\"white\">\n",
    "[푸들, 말티즈, 리트리버, 비숑] = [ a, b, c, d] 가 있을때 <br>\n",
    "골든리트리버 = c1  / 화이트 리트리버 = c2 / 블랙 리트리버 c3 이고 ... c100까지있을때 <br>\n",
    "딥러닝 모델이 리트리버(c) 까진 맞췃지만 c3인걸 c1 이라고 예측 했을때 \n",
    "딥러닝의 성능에서 크게 문제되지 않는다 <br>\n",
    "따라서, c5범위안까지 맞춘다면 이건 정답으로 처리해준다 . 이럴때 사용하는게 Top5 accuracy이다\n",
    "</font>\n",
    "    "
   ]
  },
  {
   "cell_type": "code",
   "execution_count": 2,
   "id": "9ab5b583",
   "metadata": {},
   "outputs": [
    {
     "name": "stdout",
     "output_type": "stream",
     "text": [
      "Top-5 precition and label [3, 4, 0, 7, 1] 0\n",
      "-> Correct\n"
     ]
    }
   ],
   "source": [
    "# make random prediction\n",
    "#1. pred -> probability \n",
    "prediction = [40, 25, 10, 80, 60, 20, 5, 30, 10, 15]\n",
    "label = 0\n",
    "\n",
    "# calculate the required n_ data\n",
    "n_class = len(prediction)\n",
    "\n",
    "# transform the predictions into probabilities\n",
    "pred_sum = 0\n",
    "for pred in prediction:\n",
    "    pred_sum += pred\n",
    "for pred_idx, pred in enumerate(prediction):\n",
    "    prediction[pred_idx] = pred/pred_sum\n",
    "    \n",
    "sorted_predictions = list()\n",
    "sorted_prediction_indices = list()\n",
    "# iterate 5 times for getting 5 maximum indices\n",
    "for _ in range(5):\n",
    "    M, M_idx = None, 0\n",
    "    \n",
    "    for pred_idx, pred in enumerate(prediction):\n",
    "        if pred_idx in sorted_prediction_indices:\n",
    "            pass\n",
    "        elif M == None or pred > M:\n",
    "            M = pred\n",
    "            M_idx = pred_idx\n",
    "    \n",
    "    sorted_predictions.append(M)\n",
    "    sorted_prediction_indices.append(M_idx)\n",
    "    \n",
    "print(\"Top-5 precition and label\", sorted_prediction_indices, label)\n",
    "if label in sorted_prediction_indices:\n",
    "    print(\"-> Correct\")\n",
    "else:\n",
    "    print(\"-> Not correct\")"
   ]
  }
 ],
 "metadata": {
  "kernelspec": {
   "display_name": "Python 3 (ipykernel)",
   "language": "python",
   "name": "python3"
  },
  "language_info": {
   "codemirror_mode": {
    "name": "ipython",
    "version": 3
   },
   "file_extension": ".py",
   "mimetype": "text/x-python",
   "name": "python",
   "nbconvert_exporter": "python",
   "pygments_lexer": "ipython3",
   "version": "3.9.7"
  },
  "toc": {
   "base_numbering": 1,
   "nav_menu": {},
   "number_sections": true,
   "sideBar": true,
   "skip_h1_title": false,
   "title_cell": "Table of Contents",
   "title_sidebar": "Contents",
   "toc_cell": false,
   "toc_position": {},
   "toc_section_display": true,
   "toc_window_display": false
  }
 },
 "nbformat": 4,
 "nbformat_minor": 5
}
